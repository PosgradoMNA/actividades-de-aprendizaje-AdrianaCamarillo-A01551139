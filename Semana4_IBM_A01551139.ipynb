{
  "nbformat": 4,
  "nbformat_minor": 0,
  "metadata": {
    "colab": {
      "provenance": [],
      "collapsed_sections": [],
      "include_colab_link": true
    },
    "kernelspec": {
      "name": "python3",
      "display_name": "Python 3"
    },
    "language_info": {
      "name": "python"
    }
  },
  "cells": [
    {
      "cell_type": "markdown",
      "metadata": {
        "id": "view-in-github",
        "colab_type": "text"
      },
      "source": [
        "<a href=\"https://colab.research.google.com/github/PosgradoMNA/actividades-de-aprendizaje-AdrianaCamarillo-A01551139/blob/main/Semana4_IBM_A01551139.ipynb\" target=\"_parent\"><img src=\"https://colab.research.google.com/assets/colab-badge.svg\" alt=\"Open In Colab\"/></a>"
      ]
    },
    {
      "cell_type": "markdown",
      "source": [
        "\n",
        "\n",
        "# Actividad de semana 4: Data Analysis with Python (IBM)\n",
        "\n",
        "## Materia: Ciencia y analítica de datos\n",
        "\n",
        "Prof Jobish Vallikavungal\n",
        "\n",
        "Prof Roberto Antonio Guevara González\n",
        "\n",
        "## Nombre: Adriana Camarillo Duran\n",
        "\n",
        "## Matrícula: A01551139\n",
        "\n",
        "Fecha de entrega: 11/10/2022\n",
        "\n",
        "\n"
      ],
      "metadata": {
        "id": "_PU3bIN8TIrq"
      }
    },
    {
      "cell_type": "markdown",
      "source": [
        "## Module 1 - Introduction"
      ],
      "metadata": {
        "id": "MyWXE-oUTKtu"
      }
    },
    {
      "cell_type": "markdown",
      "source": [
        "En el curso estaremos usando un ejemplo en el que estimaremos los precios de autos usados. Utilizaremos análisis de datos para descubrir información útil, responder preguntar y predecir lo desconocido."
      ],
      "metadata": {
        "id": "NOn-5Pjngyn0"
      }
    },
    {
      "cell_type": "markdown",
      "source": [
        "Utilizamos un dataset en formato csv que contiene información de 1985 de autos usados. Este archivo contiene características como el riesgo del auto, la pérdida promedio en pagos de seguros por año, el precio del auto, etc. La descripción del resto de las columnas se puede encontrar aquí: https://archive.ics.uci.edu/ml/datasets/Automobile"
      ],
      "metadata": {
        "id": "lo4uySKQHCAr"
      }
    },
    {
      "cell_type": "markdown",
      "source": [
        "Algunas librerías útiles para análisis de datos son:\n",
        "- Para cómputo científico:\n",
        "  * Pandas\n",
        "  * NumPy\n",
        "  * SciPy\n",
        "- Para visualización:\n",
        "  * Matplolib\n",
        "  * Seaborn\n",
        "- Algorítmicas:\n",
        "  * Scikit-learn\n",
        "  * Statsmodels"
      ],
      "metadata": {
        "id": "23mRwOeRHB92"
      }
    },
    {
      "cell_type": "markdown",
      "source": [
        "Los tipos de datos básicos son:\n",
        "* object\n",
        "* int64\n",
        "* float64\n",
        "* datetime64\n",
        "\n",
        "Se puede utilizar df.dtypes para checar los tipos de datos de un dataframe"
      ],
      "metadata": {
        "id": "eKT5eC_zHBrg"
      }
    },
    {
      "cell_type": "markdown",
      "source": [
        "Podemos usar el método df.describe() para explorar las estadísticas de las columnas numéricas. Si se quiere incluir también a variables del tipo object, se puede agregar el argumento include=\"all\".\n",
        "\n",
        "También podemos usar el método df.info() para explorar los primeros 3 y los últimos 3 renglones del dataframe."
      ],
      "metadata": {
        "id": "CuaxAoKBKZPk"
      }
    }
  ]
}