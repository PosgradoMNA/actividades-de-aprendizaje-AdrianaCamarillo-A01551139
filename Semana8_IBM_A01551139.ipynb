{
  "nbformat": 4,
  "nbformat_minor": 0,
  "metadata": {
    "colab": {
      "provenance": [],
      "collapsed_sections": [],
      "toc_visible": true,
      "include_colab_link": true
    },
    "kernelspec": {
      "name": "python3",
      "display_name": "Python 3"
    },
    "language_info": {
      "name": "python"
    }
  },
  "cells": [
    {
      "cell_type": "markdown",
      "metadata": {
        "id": "view-in-github",
        "colab_type": "text"
      },
      "source": [
        "<a href=\"https://colab.research.google.com/github/PosgradoMNA/actividades-de-aprendizaje-AdrianaCamarillo-A01551139/blob/main/Semana8_IBM_A01551139.ipynb\" target=\"_parent\"><img src=\"https://colab.research.google.com/assets/colab-badge.svg\" alt=\"Open In Colab\"/></a>"
      ]
    },
    {
      "cell_type": "markdown",
      "source": [
        "\n",
        "\n",
        "# Actividad de Semana 8: Data Analysis with Python (IBM)\n",
        "\n",
        "## Materia: Ciencia y analítica de datos\n",
        "\n",
        "Prof María de la Paz Rico\n",
        "\n",
        "Prof Roberto Antonio Guevara González\n",
        "\n",
        "## Nombre: Adriana Camarillo Duran\n",
        "\n",
        "## Matrícula: A01551139\n",
        "\n",
        "Fecha de entrega: 09/11/2022\n",
        "\n",
        "\n"
      ],
      "metadata": {
        "id": "_PU3bIN8TIrq"
      }
    },
    {
      "cell_type": "markdown",
      "source": [
        "## Module 5 - Model Evaluation"
      ],
      "metadata": {
        "id": "MyWXE-oUTKtu"
      }
    },
    {
      "cell_type": "markdown",
      "source": [
        "### Model  Evaluation"
      ],
      "metadata": {
        "id": "J4_rvM-5E6XK"
      }
    },
    {
      "cell_type": "markdown",
      "source": [
        "La evaluación del modelo es útil para saber como se desempeña nuestro modelo en la vida real. Una manera efectiva de realizar esta evaluación es dividiendo nuestros datos en un set de entrenamiento y otro de prueba."
      ],
      "metadata": {
        "id": "NOn-5Pjngyn0"
      }
    },
    {
      "cell_type": "markdown",
      "source": [
        "En python lo podemos hacer a través de la función de sci-kit learn train_test_split()"
      ],
      "metadata": {
        "id": "ejYo7xZwgFKa"
      }
    },
    {
      "cell_type": "code",
      "source": [
        "x_train, x_test, y_train, y_test = tran_test_split(x_data, y_data, test_size= 0,3, random_state=0)"
      ],
      "metadata": {
        "id": "tdb0qzwTgEsi"
      },
      "execution_count": null,
      "outputs": []
    },
    {
      "cell_type": "markdown",
      "source": [
        "Con ayuda de cross-validation, podemos tener resultados del performance aún más acertados. Esto se hace dividiendo el set de datos varias veces para realizar varias pruebas de entrenamiento/validación y tener un promedio de la evaluación."
      ],
      "metadata": {
        "id": "rztZ3sr0gdfr"
      }
    },
    {
      "cell_type": "markdown",
      "source": [
        "En python, lo podemos hacer de la siguiente manera:"
      ],
      "metadata": {
        "id": "yc6BR3Plg8AC"
      }
    },
    {
      "cell_type": "code",
      "source": [
        "scores = cross_val_score(lr, x_data, y_data, cv=3)\n",
        "np.mean(scores)"
      ],
      "metadata": {
        "id": "ml3tWlIhgd5_"
      },
      "execution_count": null,
      "outputs": []
    },
    {
      "cell_type": "markdown",
      "source": [
        "Si queremos hacer un proceso similar, pero obtener las predicciones de cada split en lugar de las métricas, podemos usar cross_val_predict:"
      ],
      "metadata": {
        "id": "9ryuzInPhNS5"
      }
    },
    {
      "cell_type": "code",
      "source": [
        "y_hat = corss_val_predict(lr, x_data, y_data, cv=3)"
      ],
      "metadata": {
        "id": "WKWvLUzjhMt6"
      },
      "execution_count": null,
      "outputs": []
    },
    {
      "cell_type": "markdown",
      "source": [
        "### Over-fitting, Under-fitting and Model Selection"
      ],
      "metadata": {
        "id": "aFIBF1BovEm8"
      }
    },
    {
      "cell_type": "markdown",
      "source": [
        "El objetivo de la selección de un modelo es determinar el order del polinomio que de una mejor estimación de $x$ y $y$.\n",
        "\n",
        "Cuando hace fit de un modelo y este no es lo suficientemente complejo para explicar los datos, se le llama under-fitting.\n",
        "\n",
        "En el caso contrario, cuando tenemos un modelo que mapea demasiado bien los datos de entrenamiento pero no logra adecuarse a datos nuevos, se le llama over-fitting."
      ],
      "metadata": {
        "id": "ep10rl6-v_3a"
      }
    },
    {
      "cell_type": "markdown",
      "source": [
        "Para construir modelos de diferentes grados y evaluarlos, podemos hacer lo siguiente:"
      ],
      "metadata": {
        "id": "XAk3qy_NiSXT"
      }
    },
    {
      "cell_type": "code",
      "source": [
        "Rsqu_test = []\n",
        "order = [1,2,3,4]\n",
        "\n",
        "for n in order:\n",
        "  pr = PolynomialFeatures(degree=n)\n",
        "  x_train_pr = pr.fit_transform(x_train[['horsepower']])\n",
        "  x_test_pr = pr.fit_transform(x_test[['horsepower']])\n",
        "  lr.fit(x_train, y_train)\n",
        "  Rsqu_test.append(lr.score(x_test_pr, y_test))"
      ],
      "metadata": {
        "id": "IUFRApfrwAPC"
      },
      "execution_count": null,
      "outputs": []
    },
    {
      "cell_type": "markdown",
      "source": [
        "### Ridge Regression"
      ],
      "metadata": {
        "id": "q2-VM0spE82l"
      }
    },
    {
      "cell_type": "markdown",
      "source": [
        "Para prevenir el over-fitting, podemos usar Ridge Regression, el cual controla la magnitud de los coeficientes polinomiales a través de un parámetro alpha.\n",
        "\n"
      ],
      "metadata": {
        "id": "CuaxAoKBKZPk"
      }
    },
    {
      "cell_type": "markdown",
      "source": [
        "Para hacer una predicción usando Ridge Regression, se hace lo siguiente:"
      ],
      "metadata": {
        "id": "cWrv3FcgjaDw"
      }
    },
    {
      "cell_type": "code",
      "source": [
        "from sklearn.linear_model import RidgeRegressor\n",
        "RidgeModel= Ridge(alpha=0.1)\n",
        "RidgeModel.fit(X,y)\n",
        "Yhat = RidgeModel.predict(X)"
      ],
      "metadata": {
        "id": "3ZHEeYVaxJfH"
      },
      "execution_count": null,
      "outputs": []
    },
    {
      "cell_type": "markdown",
      "source": [
        "### Grid Search"
      ],
      "metadata": {
        "id": "UC4gmW8DFiuF"
      }
    },
    {
      "cell_type": "markdown",
      "source": [
        "A través de Grid Search, podemos evaluar modelos usando diferentes combinaciones de los hiperparámetros para buscar la mejor combinación"
      ],
      "metadata": {
        "id": "T2t5KEtS2_DF"
      }
    },
    {
      "cell_type": "markdown",
      "source": [
        "En python, se puede hacer de la siguiente manera:"
      ],
      "metadata": {
        "id": "fFZhEhWTkTiY"
      }
    },
    {
      "cell_type": "code",
      "source": [
        "from sklearn.linear_model import Ridge\n",
        "from sklearn.model_selection import GridSearchCV\n",
        "\n",
        "parameters1 = [{'alpha': [0.001, 0.1, 10, 100, 1000, 10000, 100000, 1000000],\n",
        "                'normaliza': [True,False]}]\n",
        "\n",
        "RR = Ridge()\n",
        "\n",
        "Grid1 = GridSearchCV(RR, parameters1, cv=4)\n",
        "Grid1.fit(x_data[['variable1', 'variable2', 'variable3']], y_data)\n",
        "Grid1.best_estimator_\n",
        "\n",
        "scores = Grid1.cv_results_\n",
        "scores['mean_test_score']"
      ],
      "metadata": {
        "id": "HCJFTKmzFjjg"
      },
      "execution_count": null,
      "outputs": []
    }
  ]
}