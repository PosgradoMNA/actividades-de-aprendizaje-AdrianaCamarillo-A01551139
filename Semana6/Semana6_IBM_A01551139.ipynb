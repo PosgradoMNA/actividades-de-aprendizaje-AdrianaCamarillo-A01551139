{
  "nbformat": 4,
  "nbformat_minor": 0,
  "metadata": {
    "colab": {
      "provenance": [],
      "collapsed_sections": [],
      "include_colab_link": true
    },
    "kernelspec": {
      "name": "python3",
      "display_name": "Python 3"
    },
    "language_info": {
      "name": "python"
    }
  },
  "cells": [
    {
      "cell_type": "markdown",
      "metadata": {
        "id": "view-in-github",
        "colab_type": "text"
      },
      "source": [
        "<a href=\"https://colab.research.google.com/github/PosgradoMNA/actividades-de-aprendizaje-AdrianaCamarillo-A01551139/blob/main/Semana6_IBM_A01551139.ipynb\" target=\"_parent\"><img src=\"https://colab.research.google.com/assets/colab-badge.svg\" alt=\"Open In Colab\"/></a>"
      ]
    },
    {
      "cell_type": "markdown",
      "source": [
        "\n",
        "\n",
        "# Actividad de semana 6: Data Analysis with Python (IBM)\n",
        "\n",
        "## Materia: Ciencia y analítica de datos\n",
        "\n",
        "Prof Jobish Vallikavungal\n",
        "\n",
        "Prof Roberto Antonio Guevara González\n",
        "\n",
        "## Nombre: Adriana Camarillo Duran\n",
        "\n",
        "## Matrícula: A01551139\n",
        "\n",
        "Fecha de entrega: 25/10/2022\n",
        "\n",
        "\n"
      ],
      "metadata": {
        "id": "_PU3bIN8TIrq"
      }
    },
    {
      "cell_type": "markdown",
      "source": [
        "## Module 3 - Summarizing the Data Frame"
      ],
      "metadata": {
        "id": "MyWXE-oUTKtu"
      }
    },
    {
      "cell_type": "markdown",
      "source": [
        "El análisis de datos exploratorio (o EDA por sus siglas en inglés) es un enfoque para resumir características principales de los datos, entender mejor el dataset, descubrir relaciones entre diferentes variables y extraer variables importantes para el problema que buscamos resolver."
      ],
      "metadata": {
        "id": "xG4RkkC2E5_x"
      }
    },
    {
      "cell_type": "markdown",
      "source": [
        "### Estadística descriptiva"
      ],
      "metadata": {
        "id": "J4_rvM-5E6XK"
      }
    },
    {
      "cell_type": "markdown",
      "source": [
        "Es importante explorar los datos antes de usar tiempo construyendo modelos complicados. Una manera de hacer eso es a través del caálculo de estadísticas descriptivas de los datos. "
      ],
      "metadata": {
        "id": "NOn-5Pjngyn0"
      }
    },
    {
      "cell_type": "markdown",
      "source": [
        "Un método de Pandas para hacer esto es con .describe(), el cual nos da un resumen de las variables con su conteo, promedio, desviación estándar, cuartiles y máximos."
      ],
      "metadata": {
        "id": "KVn1PZosGJeW"
      }
    },
    {
      "cell_type": "code",
      "source": [
        "df.describe()"
      ],
      "metadata": {
        "id": "h33GOvhAGImT"
      },
      "execution_count": null,
      "outputs": []
    },
    {
      "cell_type": "markdown",
      "source": [
        "Cuando tenemos variables categóricas, describe() no es tan útil pero podemos usar otros métodos como value_counts(), el cual nos dice la cantidad de observaciones por categoría."
      ],
      "metadata": {
        "id": "NwwOHsCsGrNd"
      }
    },
    {
      "cell_type": "code",
      "source": [
        "df['variable_categorica'].value_counts()"
      ],
      "metadata": {
        "id": "Ts758XJUE8a-"
      },
      "execution_count": null,
      "outputs": []
    },
    {
      "cell_type": "markdown",
      "source": [
        "Los boxplots nos ayudan a visaulizar los cuartiles de las variables, así como valores extremos o outliers."
      ],
      "metadata": {
        "id": "MUQTk7CMG4AA"
      }
    },
    {
      "cell_type": "code",
      "source": [
        "sns.boxplot(x= 'variable', y= 'target_variable', data= df)"
      ],
      "metadata": {
        "id": "dbv2M_cSGRwp"
      },
      "execution_count": null,
      "outputs": []
    },
    {
      "cell_type": "markdown",
      "source": [
        "Para ver relaciones entre variables con valores continuos, los scatter plot son bastante útiles."
      ],
      "metadata": {
        "id": "Dq85ZbCuHOEv"
      }
    },
    {
      "cell_type": "code",
      "source": [
        "x= df['variable']\n",
        "y= df['target_variable']\n",
        "plt.scatter(x,y)\n",
        "\n",
        "plt.title('Scatterplot of Variable vs Target Variable')\n",
        "plt.xlabel('Variable')\n",
        "plt.ylabel('Target Variable')"
      ],
      "metadata": {
        "id": "vB27zSZjHOT7"
      },
      "execution_count": null,
      "outputs": []
    },
    {
      "cell_type": "markdown",
      "source": [
        "### Agrupamientos de datos"
      ],
      "metadata": {
        "id": "q2-VM0spE82l"
      }
    },
    {
      "cell_type": "markdown",
      "source": [
        "El método de Pandas .Groupby() es útil para crear grupos de datos de variables categóricas. Se pueden crear los grupos a partir de una sola variable o múltiples.\n",
        "\n"
      ],
      "metadata": {
        "id": "CuaxAoKBKZPk"
      }
    },
    {
      "cell_type": "code",
      "source": [
        "df_grp= df.groupby(['variable_categorica','variable_categorica2'], as_index=False).mean()"
      ],
      "metadata": {
        "id": "njH0r0F6Fihi"
      },
      "execution_count": null,
      "outputs": []
    },
    {
      "cell_type": "markdown",
      "source": [
        "Con el método Pivot(), podemos visualizar los datos de manera más entendible cuando tener groupby's por dos variables. Nos ayuda a mostrar una variable en los renglones y la otra en las columnas"
      ],
      "metadata": {
        "id": "8DFtrEYpXvLG"
      }
    },
    {
      "cell_type": "code",
      "source": [
        "df_pivot= df_grp.pivot(index= 'variable_categorica', columns= 'variable_categorica2')"
      ],
      "metadata": {
        "id": "7vrcFCGAYIOR"
      },
      "execution_count": null,
      "outputs": []
    },
    {
      "cell_type": "markdown",
      "source": [
        "A través de heatmaps podemos visualizar con una gráfica una variable contra todas las demás"
      ],
      "metadata": {
        "id": "8QpCNbltYrwo"
      }
    },
    {
      "cell_type": "code",
      "source": [
        "plr.pcolor(df_pivot, cmap= 'RdBu')\n",
        "plr.colorbar()\n",
        "plt.show()"
      ],
      "metadata": {
        "id": "ie71d7vqYr_P"
      },
      "execution_count": null,
      "outputs": []
    },
    {
      "cell_type": "markdown",
      "source": [
        "### ANOVA"
      ],
      "metadata": {
        "id": "UC4gmW8DFiuF"
      }
    },
    {
      "cell_type": "markdown",
      "source": [
        "ANOVA sirve para hacer comparaciones estadísticas de grupos o variables categóricas. El nombre ANOVA se dervia de ANalyisis of Variance.\n",
        "\n",
        "Este test nos ayuda a encontrar correlación entre diferentes grupos de una variable categórica.\n",
        "\n",
        "ANOVA nos regresa dos valores:\n",
        "- Puntaje F-test: la variación entre los promedios del grupo muestra dividido entre la variación dentro del grupo muestra\n",
        "- p-value: nivel de confianza"
      ],
      "metadata": {
        "id": "xGlzbHlzFkYD"
      }
    },
    {
      "cell_type": "code",
      "source": [
        "df_anova= df[['variable_categorica','variable2']]\n",
        "grouped_anova= df_anova.groupby('variable_categorica')"
      ],
      "metadata": {
        "id": "HCJFTKmzFjjg"
      },
      "execution_count": null,
      "outputs": []
    },
    {
      "cell_type": "code",
      "source": [
        "anova_results= stats.oneway(grouped_anova.get_group('categoria1')['variable2'],grouped_anova.get_group('categoria2')['variable2'])"
      ],
      "metadata": {
        "id": "FePeB_OZsSt3"
      },
      "execution_count": null,
      "outputs": []
    },
    {
      "cell_type": "markdown",
      "source": [
        "### Correlación"
      ],
      "metadata": {
        "id": "fUa0TdWxFohq"
      }
    },
    {
      "cell_type": "markdown",
      "source": [
        "La correlación es una métrica estadística que nos ayuda a medir a qué nivel variables diferentes son interdependientes."
      ],
      "metadata": {
        "id": "pQEX7hcCFopH"
      }
    },
    {
      "cell_type": "markdown",
      "source": [
        "Con códigos como el de abajo podemos ver de manera gráfica la correlación entre dos variables:"
      ],
      "metadata": {
        "id": "7AVlxL3sTAOh"
      }
    },
    {
      "cell_type": "code",
      "source": [
        "sns.regplot(x='engine-size', y='prices', data=df)\n",
        "plt.ylim(0,)"
      ],
      "metadata": {
        "id": "w5uEz3XtFlM3"
      },
      "execution_count": null,
      "outputs": []
    },
    {
      "cell_type": "markdown",
      "source": [
        "Tener una recta con una pendiente empinada hacia arriba o hacia abajo puede mostrar correlaciones lineares positivas o negativas.\n",
        "\n",
        "Si una línea es más vertical u horizontal, hay indicación de correlación débil."
      ],
      "metadata": {
        "id": "9vJjaVpeTSRb"
      }
    },
    {
      "cell_type": "markdown",
      "source": [
        "Una manera de medir la fuerza de la correlación entre dos variables numéricas continuas es a través del método de correlación de Pearson, el cual nos da dos características diferentes:\n",
        "- Coeficiente de correlación:\n",
        "  - valor cercano a 1 indica una relación positiva fuerte\n",
        "  - valor cercano a -1 indica una relación negativa fuerte\n",
        "  - un valor cercano a 0 indica no relación.\n",
        "- Valor p: El valor p nos indica que tan confiable es la relación que calculamos:\n",
        "  - < 0.001 indica una certidumbre alta\n",
        "  - < 0.05 indica una certidumbre moderada\n",
        "  - < 0.1 indica una certidumbre débil\n",
        "  - \\> 0.1 no hay certidumbre\n",
        "\n",
        "Se puede decir que hay una correlación fueret cuando el coeficiente es cercano a 1 o -1 y el valor p es menor a 0.001."
      ],
      "metadata": {
        "id": "QdqzRI6bTkTD"
      }
    },
    {
      "cell_type": "markdown",
      "source": [
        "Con el paquete Scipy stats se pueden calcular estos valores en pyhton:"
      ],
      "metadata": {
        "id": "COj4vaI4T5_L"
      }
    },
    {
      "cell_type": "code",
      "source": [
        "pearson_coef, p_value = stats.pearsonr(df['horsepower'], df['price'])"
      ],
      "metadata": {
        "id": "Pz8dOdXzT8er"
      },
      "execution_count": null,
      "outputs": []
    },
    {
      "cell_type": "markdown",
      "source": [
        "También podemos tomar en cuenta todas las variables y crear un heatmap o mapa de calor para ver la correlación de todas contra todas. El esquema de color nos muestra que tan fuerte es la relación entre las variables. La diagonal muestra la relación de una variable contra sí misma por lo que siempre será 1."
      ],
      "metadata": {
        "id": "p9MWN8qkXTys"
      }
    }
  ]
}
