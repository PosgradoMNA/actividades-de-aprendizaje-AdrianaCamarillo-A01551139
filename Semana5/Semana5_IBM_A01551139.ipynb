{
  "nbformat": 4,
  "nbformat_minor": 0,
  "metadata": {
    "colab": {
      "provenance": [],
      "collapsed_sections": [],
      "include_colab_link": true
    },
    "kernelspec": {
      "name": "python3",
      "display_name": "Python 3"
    },
    "language_info": {
      "name": "python"
    }
  },
  "cells": [
    {
      "cell_type": "markdown",
      "metadata": {
        "id": "view-in-github",
        "colab_type": "text"
      },
      "source": [
        "<a href=\"https://colab.research.google.com/github/PosgradoMNA/actividades-de-aprendizaje-AdrianaCamarillo-A01551139/blob/main/Semana5_IBM_A01551139.ipynb\" target=\"_parent\"><img src=\"https://colab.research.google.com/assets/colab-badge.svg\" alt=\"Open In Colab\"/></a>"
      ]
    },
    {
      "cell_type": "markdown",
      "source": [
        "\n",
        "\n",
        "# Actividad de semana 5: Data Analysis with Python (IBM)\n",
        "\n",
        "## Materia: Ciencia y analítica de datos\n",
        "\n",
        "Prof Jobish Vallikavungal\n",
        "\n",
        "Prof Roberto Antonio Guevara González\n",
        "\n",
        "## Nombre: Adriana Camarillo Duran\n",
        "\n",
        "## Matrícula: A01551139\n",
        "\n",
        "Fecha de entrega: 18/10/2022\n",
        "\n",
        "\n"
      ],
      "metadata": {
        "id": "_PU3bIN8TIrq"
      }
    },
    {
      "cell_type": "markdown",
      "source": [
        "## Module 2 - Data Wrangling"
      ],
      "metadata": {
        "id": "MyWXE-oUTKtu"
      }
    },
    {
      "cell_type": "markdown",
      "source": [
        "Cada columna de un dataframe es un data series"
      ],
      "metadata": {
        "id": "2UatEDMZyNKJ"
      }
    },
    {
      "cell_type": "markdown",
      "source": [
        "### Missing values"
      ],
      "metadata": {
        "id": "NOn-5Pjngyn0"
      }
    },
    {
      "cell_type": "markdown",
      "source": [
        "Cuando no hay datos guardados en una variable para una observación en particular, se le llama 'missing value'. Normalmente, los missing values en un dataset se ven de la siguiente manera: \"?\", \"N/A\", 0 o una celda en blanco\n",
        "\n",
        "Para lidiar con estos valores hay varias maneras: \n",
        "\n",
        "- Preguntar, con la persona o el grupo que junto los datos, si es posible recuperar o buscar el valor que debería contener esa celda.\n",
        "\n",
        "- Eliminar estos campos, ya sea la variable completa o la observación donde ocurrió esto. Si se tienen pocos valores nulos, generalmente lo mejor es eliminar las observaciones que tienen esos valores nulos.\n",
        "\n",
        "- Reemplazar los missing values con valores como el promedio, la mediana o la moda.\n",
        "\n",
        "- Reemplazar los valores con base en otras características\n",
        "\n",
        "- Dejarlo así"
      ],
      "metadata": {
        "id": "6W1DPQ9Xxp0H"
      }
    },
    {
      "cell_type": "markdown",
      "source": [
        "Para eliminar valores nulos con Pandas, se puede usar el método dropna(), el cual tiene argumentos como:\n",
        "\n",
        "- axis (0 o 1) para indicar si se quiere hacer por renglón o columna\n",
        "- inplace (True o False) para hacer la operación sobre el dataframe original"
      ],
      "metadata": {
        "id": "KLmPuWic0YFe"
      }
    },
    {
      "cell_type": "code",
      "source": [
        "dataframes.dropna()"
      ],
      "metadata": {
        "id": "EenhZpjfxpif"
      },
      "execution_count": null,
      "outputs": []
    },
    {
      "cell_type": "markdown",
      "source": [
        "Para reemplazar valores nulos con Pandas, se puede usar el método replace(). Primero se indica el valor a reemplazar y luego con lo que se va a reemplazar."
      ],
      "metadata": {
        "id": "tHaeOOEV0b7W"
      }
    },
    {
      "cell_type": "code",
      "source": [
        "dataframes.replace(missing_value, new_values)"
      ],
      "metadata": {
        "id": "ALkEdbYY0cCX"
      },
      "execution_count": null,
      "outputs": []
    },
    {
      "cell_type": "markdown",
      "source": [
        "### Data Formatting"
      ],
      "metadata": {
        "id": "mYoGvO-cxku6"
      }
    },
    {
      "cell_type": "markdown",
      "source": [
        "Darle formato a los datos quiere decir llevar todos los datos a un estandar común de expresión que permita a los usuarios hacer comparaciones significativas.\n",
        "\n",
        "Esto ayuda a que los datos sean constantes y se puedan comprender mejor."
      ],
      "metadata": {
        "id": "hlnzR5xWxsEQ"
      }
    },
    {
      "cell_type": "markdown",
      "source": [
        "Se pueden hacer operaciones a una columna entera para convertir datos y también si es necesario se pueden renombrar las columnas con el método rename()"
      ],
      "metadata": {
        "id": "wGIpiLov2DTz"
      }
    },
    {
      "cell_type": "code",
      "source": [
        "df.rename(columns= {'column_name': 'new_column_name'}, inplace=True)"
      ],
      "metadata": {
        "id": "R3grY5G0xsK7"
      },
      "execution_count": null,
      "outputs": []
    },
    {
      "cell_type": "markdown",
      "source": [
        "Podemos utiliza el método .dtypes() para identificar los tipos de datos de cada variable. Con el método .astype() podemos cambiar estos tipos de datos por otros."
      ],
      "metadata": {
        "id": "uMnM63NF2Raz"
      }
    },
    {
      "cell_type": "code",
      "source": [
        "dataframe.dtypes()"
      ],
      "metadata": {
        "id": "190MmHRy2RjZ"
      },
      "execution_count": null,
      "outputs": []
    },
    {
      "cell_type": "code",
      "source": [
        "dataframe['variable']= dataframe['variable'].astype('int')"
      ],
      "metadata": {
        "id": "zyWoODeR4fic"
      },
      "execution_count": null,
      "outputs": []
    },
    {
      "cell_type": "markdown",
      "source": [
        "### Data Normalization"
      ],
      "metadata": {
        "id": "ub-I42dDxsnj"
      }
    },
    {
      "cell_type": "markdown",
      "source": [
        "Cuando los datos tienen escales diferentes, y no están normalizados, es difícil hacer comparaciones. \n",
        "\n",
        "Además puede que una variable impacte más un modelo o análisis, a pesar de que no necesariamente es más importante.\n",
        "\n",
        "Existen tres métodos para normalizar datos:\n",
        "- Simple feature scaling \n",
        "\n",
        "  $x_{new}=\\frac{x_{old}}{x_{max}}$\n",
        "\n",
        "- Min-Max\n",
        "\n",
        "  $x_{new}=\\frac{x_{old} - x_{min}}{x_{max} - x_{min}}$\n",
        "\n",
        "- Z-core\n",
        "\n",
        "  $x_{new}=\\frac{x_{old} - \\mu}{\\sigma}$"
      ],
      "metadata": {
        "id": "1N2CUr_5xvrZ"
      }
    },
    {
      "cell_type": "markdown",
      "source": [
        "Hay métodos en pandas que nos pueden ayudar a esto como:\n",
        "\n",
        "- .max()\n",
        "- .min()\n",
        "- .std()"
      ],
      "metadata": {
        "id": "1Ighc30-6-XV"
      }
    },
    {
      "cell_type": "markdown",
      "source": [
        "### Data Binning"
      ],
      "metadata": {
        "id": "c4aXGrygxv-r"
      }
    },
    {
      "cell_type": "markdown",
      "source": [
        "Binning es cuando se agrupan datos en bins, lo cual nos puede servir para convertir variables numéricas en categóricas para comprender mejor los datos."
      ],
      "metadata": {
        "id": "tZ86v7bzx8ju"
      }
    },
    {
      "cell_type": "markdown",
      "source": [
        "Con la función de Numpy linspace, podemos crear estos bins. Le indicamos el valor mínimo de la variable, el máximo y luego la cantidad de números entre los cuales se crearán los bins (e.g. número de bins + 1) :"
      ],
      "metadata": {
        "id": "OQmyvSaI7j-m"
      }
    },
    {
      "cell_type": "code",
      "source": [
        "bins = np.linspace(min(df['variable']), max(df['variable']), 4)"
      ],
      "metadata": {
        "id": "BSVomyQix74m"
      },
      "execution_count": null,
      "outputs": []
    },
    {
      "cell_type": "markdown",
      "source": [
        "También hacemos una lista con los nombres de los grupos o bins:"
      ],
      "metadata": {
        "id": "EZh9OHzb8ODr"
      }
    },
    {
      "cell_type": "code",
      "source": [
        "group_names= ['Low', 'Medium', 'High']"
      ],
      "metadata": {
        "id": "ZIDxIWYT8OLF"
      },
      "execution_count": null,
      "outputs": []
    },
    {
      "cell_type": "markdown",
      "source": [
        "Y con la función cut() de pandas, se segmentan y ordenan los valores a bins:"
      ],
      "metadata": {
        "id": "rq83poug8ABb"
      }
    },
    {
      "cell_type": "code",
      "source": [
        "df['variable_binned']= pd.cut(df['variable'], bins, labels= gropu_names, include_lowest= True)"
      ],
      "metadata": {
        "id": "D8mYUR0o8AVL"
      },
      "execution_count": null,
      "outputs": []
    },
    {
      "cell_type": "markdown",
      "source": [
        "### Transformación de datos categóricos a numéricos"
      ],
      "metadata": {
        "id": "uiUW64b9x9C4"
      }
    },
    {
      "cell_type": "markdown",
      "source": [
        "Muchos modelos estadísticos no pueden tomar strings u objetos como inputs, por lo que es conveniente convertirlos en valores numéricos.\n",
        "\n",
        "Para corregir esto se puede hacer one-hot enconding que es agregar variables dummy por cada categoría, y asignarles valores de 1 en la dummy que representa la cateogría actual y 0 en las demás."
      ],
      "metadata": {
        "id": "2BN8JXmd7JgY"
      }
    },
    {
      "cell_type": "markdown",
      "source": [
        "En Pandas, podemos utilizar el método get_dummies() para obtener estas variables dummy"
      ],
      "metadata": {
        "id": "KQZI4h-L_pzY"
      }
    },
    {
      "cell_type": "code",
      "source": [
        "pd.get_dummies(df['variable_categorica'])"
      ],
      "metadata": {
        "id": "cB7zHt627Jo6"
      },
      "execution_count": null,
      "outputs": []
    }
  ]
}
