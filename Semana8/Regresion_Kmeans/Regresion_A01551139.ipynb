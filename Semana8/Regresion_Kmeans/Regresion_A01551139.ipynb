{
  "nbformat": 4,
  "nbformat_minor": 0,
  "metadata": {
    "kernelspec": {
      "display_name": "Python 3",
      "language": "python",
      "name": "python3"
    },
    "language_info": {
      "codemirror_mode": {
        "name": "ipython",
        "version": 3
      },
      "file_extension": ".py",
      "mimetype": "text/x-python",
      "name": "python",
      "nbconvert_exporter": "python",
      "pygments_lexer": "ipython3",
      "version": "3.7.7"
    },
    "colab": {
      "provenance": [],
      "collapsed_sections": [],
      "toc_visible": true,
      "include_colab_link": true
    },
    "gpuClass": "standard"
  },
  "cells": [
    {
      "cell_type": "markdown",
      "metadata": {
        "id": "view-in-github",
        "colab_type": "text"
      },
      "source": [
        "<a href=\"https://colab.research.google.com/github/PosgradoMNA/actividades-de-aprendizaje-AdrianaCamarillo-A01551139/blob/main/Regresion_A01551139.ipynb\" target=\"_parent\"><img src=\"https://colab.research.google.com/assets/colab-badge.svg\" alt=\"Open In Colab\"/></a>"
      ]
    },
    {
      "cell_type": "markdown",
      "source": [
        "\n",
        "# Actividad de Semana 8: Actividad Semanal -- 7 Regresiones y K means (Notebook 1. Regresión)\n",
        "\n",
        "## Materia: Ciencia y analítica de datos\n",
        "\n",
        "Profa. María de la Paz Rico\n",
        "\n",
        "Prof. Roberto Antonio Guevara González\n",
        "\n",
        "## Nombre: Adriana Camarillo Durán\n",
        "\n",
        "## Matrícula: A01551139\n",
        "\n",
        "Fecha de entrega: 09/11/2022"
      ],
      "metadata": {
        "id": "BoKpL8h7jPlB"
      }
    },
    {
      "cell_type": "markdown",
      "metadata": {
        "id": "WUO-kdryVQwK"
      },
      "source": [
        "# Linear Models\n"
      ]
    },
    {
      "cell_type": "markdown",
      "metadata": {
        "id": "u3ytB4LpVQwM"
      },
      "source": [
        "- In supervised learning, the training data fed to the algorithm includes the desired solutions, called labels. \n",
        "- In **regression**, the labels are continuous quantities.\n",
        "- Linear models predict by computing a weighted sum of input features plus a bias term."
      ]
    },
    {
      "cell_type": "code",
      "metadata": {
        "id": "HMp_I4Y6VQwN"
      },
      "source": [
        "import numpy as np\n",
        "%matplotlib inline\n",
        "import matplotlib\n",
        "import matplotlib.pyplot as plt\n",
        "import pandas as pd\n",
        "import seaborn as sns\n",
        "# to make this notebook's output stable across runs\n",
        "np.random.seed(42)"
      ],
      "execution_count": null,
      "outputs": []
    },
    {
      "cell_type": "code",
      "source": [
        "5-2"
      ],
      "metadata": {
        "colab": {
          "base_uri": "https://localhost:8080/"
        },
        "id": "exg6xSYf3F5D",
        "outputId": "50baabd9-f3e5-4d4e-c57d-e63826c0ce6f"
      },
      "execution_count": null,
      "outputs": [
        {
          "output_type": "execute_result",
          "data": {
            "text/plain": [
              "3"
            ]
          },
          "metadata": {},
          "execution_count": 2
        }
      ]
    },
    {
      "cell_type": "markdown",
      "metadata": {
        "id": "szpzFXgiVQwN"
      },
      "source": [
        "## Simple Linear Regression\n",
        "\n",
        "Simple linear regression equation:\n",
        "\n",
        "$y = ax + b$\n",
        "<br>\n",
        "$a$: slope\n",
        "<br>\n",
        "$b$: intercept\n",
        "\n",
        "Generate linear-looking data with the equation:\n",
        "\n",
        "$y = 3X + 4 + noise$"
      ]
    },
    {
      "cell_type": "code",
      "metadata": {
        "colab": {
          "base_uri": "https://localhost:8080/"
        },
        "id": "mitJFYeiMQqD",
        "outputId": "1011112c-3247-41dc-8675-e5d78816ec95"
      },
      "source": [
        "np.random.rand(100, 1)"
      ],
      "execution_count": null,
      "outputs": [
        {
          "output_type": "execute_result",
          "data": {
            "text/plain": [
              "array([[0.37454012],\n",
              "       [0.95071431],\n",
              "       [0.73199394],\n",
              "       [0.59865848],\n",
              "       [0.15601864],\n",
              "       [0.15599452],\n",
              "       [0.05808361],\n",
              "       [0.86617615],\n",
              "       [0.60111501],\n",
              "       [0.70807258],\n",
              "       [0.02058449],\n",
              "       [0.96990985],\n",
              "       [0.83244264],\n",
              "       [0.21233911],\n",
              "       [0.18182497],\n",
              "       [0.18340451],\n",
              "       [0.30424224],\n",
              "       [0.52475643],\n",
              "       [0.43194502],\n",
              "       [0.29122914],\n",
              "       [0.61185289],\n",
              "       [0.13949386],\n",
              "       [0.29214465],\n",
              "       [0.36636184],\n",
              "       [0.45606998],\n",
              "       [0.78517596],\n",
              "       [0.19967378],\n",
              "       [0.51423444],\n",
              "       [0.59241457],\n",
              "       [0.04645041],\n",
              "       [0.60754485],\n",
              "       [0.17052412],\n",
              "       [0.06505159],\n",
              "       [0.94888554],\n",
              "       [0.96563203],\n",
              "       [0.80839735],\n",
              "       [0.30461377],\n",
              "       [0.09767211],\n",
              "       [0.68423303],\n",
              "       [0.44015249],\n",
              "       [0.12203823],\n",
              "       [0.49517691],\n",
              "       [0.03438852],\n",
              "       [0.9093204 ],\n",
              "       [0.25877998],\n",
              "       [0.66252228],\n",
              "       [0.31171108],\n",
              "       [0.52006802],\n",
              "       [0.54671028],\n",
              "       [0.18485446],\n",
              "       [0.96958463],\n",
              "       [0.77513282],\n",
              "       [0.93949894],\n",
              "       [0.89482735],\n",
              "       [0.59789998],\n",
              "       [0.92187424],\n",
              "       [0.0884925 ],\n",
              "       [0.19598286],\n",
              "       [0.04522729],\n",
              "       [0.32533033],\n",
              "       [0.38867729],\n",
              "       [0.27134903],\n",
              "       [0.82873751],\n",
              "       [0.35675333],\n",
              "       [0.28093451],\n",
              "       [0.54269608],\n",
              "       [0.14092422],\n",
              "       [0.80219698],\n",
              "       [0.07455064],\n",
              "       [0.98688694],\n",
              "       [0.77224477],\n",
              "       [0.19871568],\n",
              "       [0.00552212],\n",
              "       [0.81546143],\n",
              "       [0.70685734],\n",
              "       [0.72900717],\n",
              "       [0.77127035],\n",
              "       [0.07404465],\n",
              "       [0.35846573],\n",
              "       [0.11586906],\n",
              "       [0.86310343],\n",
              "       [0.62329813],\n",
              "       [0.33089802],\n",
              "       [0.06355835],\n",
              "       [0.31098232],\n",
              "       [0.32518332],\n",
              "       [0.72960618],\n",
              "       [0.63755747],\n",
              "       [0.88721274],\n",
              "       [0.47221493],\n",
              "       [0.11959425],\n",
              "       [0.71324479],\n",
              "       [0.76078505],\n",
              "       [0.5612772 ],\n",
              "       [0.77096718],\n",
              "       [0.4937956 ],\n",
              "       [0.52273283],\n",
              "       [0.42754102],\n",
              "       [0.02541913],\n",
              "       [0.10789143]])"
            ]
          },
          "metadata": {},
          "execution_count": 3
        }
      ]
    },
    {
      "cell_type": "code",
      "metadata": {
        "colab": {
          "base_uri": "https://localhost:8080/",
          "height": 265
        },
        "id": "QyubE1VEVQwN",
        "outputId": "013f17ef-3691-47aa-f6bf-7237c691fb22"
      },
      "source": [
        "X = 2*np.random.rand(100, 1)\n",
        "y = 4 + 3 * X + np.random.randn(100, 1)\n",
        "plt.scatter(X, y);"
      ],
      "execution_count": null,
      "outputs": [
        {
          "output_type": "display_data",
          "data": {
            "text/plain": [
              "<Figure size 432x288 with 1 Axes>"
            ],
            "image/png": "[encoded data removed]"
          },
          "metadata": {
            "needs_background": "light"
          }
        }
      ]
    },
    {
      "cell_type": "code",
      "source": [
        "import pandas as pd\n",
        "pd.DataFrame(y)"
      ],
      "metadata": {
        "colab": {
          "base_uri": "https://localhost:8080/",
          "height": 419
        },
        "id": "M5kaENJ4bZY5",
        "outputId": "7c1bd248-2df8-4124-d367-9b7a8d8fedf0"
      },
      "execution_count": null,
      "outputs": [
        {
          "output_type": "execute_result",
          "data": {
            "text/plain": [
              "            0\n",
              "0    3.508550\n",
              "1    8.050716\n",
              "2    6.179208\n",
              "3    6.337073\n",
              "4   11.311173\n",
              "..        ...\n",
              "95   5.441928\n",
              "96  10.121188\n",
              "97   9.787643\n",
              "98   8.061635\n",
              "99   9.597115\n",
              "\n",
              "[100 rows x 1 columns]"
            ],
            "text/html": [
              "\n",
              "  <div id=\"df-ccab8b04-0b12-48ed-8f4f-86d116c3a2c6\">\n",
              "    <div class=\"colab-df-container\">\n",
              "      <div>\n",
              "<style scoped>\n",
              "    .dataframe tbody tr th:only-of-type {\n",
              "        vertical-align: middle;\n",
              "    }\n",
              "\n",
              "    .dataframe tbody tr th {\n",
              "        vertical-align: top;\n",
              "    }\n",
              "\n",
              "    .dataframe thead th {\n",
              "        text-align: right;\n",
              "    }\n",
              "</style>\n",
              "<table border=\"1\" class=\"dataframe\">\n",
              "  <thead>\n",
              "    <tr style=\"text-align: right;\">\n",
              "      <th></th>\n",
              "      <th>0</th>\n",
              "    </tr>\n",
              "  </thead>\n",
              "  <tbody>\n",
              "    <tr>\n",
              "      <th>0</th>\n",
              "      <td>3.508550</td>\n",
              "    </tr>\n",
              "    <tr>\n",
              "      <th>1</th>\n",
              "      <td>8.050716</td>\n",
              "    </tr>\n",
              "    <tr>\n",
              "      <th>2</th>\n",
              "      <td>6.179208</td>\n",
              "    </tr>\n",
              "    <tr>\n",
              "      <th>3</th>\n",
              "      <td>6.337073</td>\n",
              "    </tr>\n",
              "    <tr>\n",
              "      <th>4</th>\n",
              "      <td>11.311173</td>\n",
              "    </tr>\n",
              "    <tr>\n",
              "      <th>...</th>\n",
              "      <td>...</td>\n",
              "    </tr>\n",
              "    <tr>\n",
              "      <th>95</th>\n",
              "      <td>5.441928</td>\n",
              "    </tr>\n",
              "    <tr>\n",
              "      <th>96</th>\n",
              "      <td>10.121188</td>\n",
              "    </tr>\n",
              "    <tr>\n",
              "      <th>97</th>\n",
              "      <td>9.787643</td>\n",
              "    </tr>\n",
              "    <tr>\n",
              "      <th>98</th>\n",
              "      <td>8.061635</td>\n",
              "    </tr>\n",
              "    <tr>\n",
              "      <th>99</th>\n",
              "      <td>9.597115</td>\n",
              "    </tr>\n",
              "  </tbody>\n",
              "</table>\n",
              "<p>100 rows × 1 columns</p>\n",
              "</div>\n",
              "      <button class=\"colab-df-convert\" onclick=\"convertToInteractive('df-ccab8b04-0b12-48ed-8f4f-86d116c3a2c6')\"\n",
              "              title=\"Convert this dataframe to an interactive table.\"\n",
              "              style=\"display:none;\">\n",
              "        \n",
              "  <svg xmlns=\"http://www.w3.org/2000/svg\" height=\"24px\"viewBox=\"0 0 24 24\"\n",
              "       width=\"24px\">\n",
              "    <path d=\"M0 0h24v24H0V0z\" fill=\"none\"/>\n",
              "    <path d=\"M18.56 5.44l.94 2.06.94-2.06 2.06-.94-2.06-.94-.94-2.06-.94 2.06-2.06.94zm-11 1L8.5 8.5l.94-2.06 2.06-.94-2.06-.94L8.5 2.5l-.94 2.06-2.06.94zm10 10l.94 2.06.94-2.06 2.06-.94-2.06-.94-.94-2.06-.94 2.06-2.06.94z\"/><path d=\"M17.41 7.96l-1.37-1.37c-.4-.4-.92-.59-1.43-.59-.52 0-1.04.2-1.43.59L10.3 9.45l-7.72 7.72c-.78.78-.78 2.05 0 2.83L4 21.41c.39.39.9.59 1.41.59.51 0 1.02-.2 1.41-.59l7.78-7.78 2.81-2.81c.8-.78.8-2.07 0-2.86zM5.41 20L4 18.59l7.72-7.72 1.47 1.35L5.41 20z\"/>\n",
              "  </svg>\n",
              "      </button>\n",
              "      \n",
              "  <style>\n",
              "    .colab-df-container {\n",
              "      display:flex;\n",
              "      flex-wrap:wrap;\n",
              "      gap: 12px;\n",
              "    }\n",
              "\n",
              "    .colab-df-convert {\n",
              "      background-color: #E8F0FE;\n",
              "      border: none;\n",
              "      border-radius: 50%;\n",
              "      cursor: pointer;\n",
              "      display: none;\n",
              "      fill: #1967D2;\n",
              "      height: 32px;\n",
              "      padding: 0 0 0 0;\n",
              "      width: 32px;\n",
              "    }\n",
              "\n",
              "    .colab-df-convert:hover {\n",
              "      background-color: #E2EBFA;\n",
              "      box-shadow: 0px 1px 2px rgba(60, 64, 67, 0.3), 0px 1px 3px 1px rgba(60, 64, 67, 0.15);\n",
              "      fill: #174EA6;\n",
              "    }\n",
              "\n",
              "    [theme=dark] .colab-df-convert {\n",
              "      background-color: #3B4455;\n",
              "      fill: #D2E3FC;\n",
              "    }\n",
              "\n",
              "    [theme=dark] .colab-df-convert:hover {\n",
              "      background-color: #434B5C;\n",
              "      box-shadow: 0px 1px 3px 1px rgba(0, 0, 0, 0.15);\n",
              "      filter: drop-shadow(0px 1px 2px rgba(0, 0, 0, 0.3));\n",
              "      fill: #FFFFFF;\n",
              "    }\n",
              "  </style>\n",
              "\n",
              "      <script>\n",
              "        const buttonEl =\n",
              "          document.querySelector('#df-ccab8b04-0b12-48ed-8f4f-86d116c3a2c6 button.colab-df-convert');\n",
              "        buttonEl.style.display =\n",
              "          google.colab.kernel.accessAllowed ? 'block' : 'none';\n",
              "\n",
              "        async function convertToInteractive(key) {\n",
              "          const element = document.querySelector('#df-ccab8b04-0b12-48ed-8f4f-86d116c3a2c6');\n",
              "          const dataTable =\n",
              "            await google.colab.kernel.invokeFunction('convertToInteractive',\n",
              "                                                     [key], {});\n",
              "          if (!dataTable) return;\n",
              "\n",
              "          const docLinkHtml = 'Like what you see? Visit the ' +\n",
              "            '<a target=\"_blank\" href=https://colab.research.google.com/notebooks/data_table.ipynb>data table notebook</a>'\n",
              "            + ' to learn more about interactive tables.';\n",
              "          element.innerHTML = '';\n",
              "          dataTable['output_type'] = 'display_data';\n",
              "          await google.colab.output.renderOutput(dataTable, element);\n",
              "          const docLink = document.createElement('div');\n",
              "          docLink.innerHTML = docLinkHtml;\n",
              "          element.appendChild(docLink);\n",
              "        }\n",
              "      </script>\n",
              "    </div>\n",
              "  </div>\n",
              "  "
            ]
          },
          "metadata": {},
          "execution_count": 5
        }
      ]
    },
    {
      "cell_type": "code",
      "metadata": {
        "colab": {
          "base_uri": "https://localhost:8080/"
        },
        "id": "x6XGt_iAVQwO",
        "outputId": "48486db8-195e-4d82-e9db-fbe2d6ff8a4a"
      },
      "source": [
        "from sklearn.linear_model import LinearRegression\n",
        "\n",
        "linear_reg = LinearRegression(fit_intercept=True)\n",
        "linear_reg.fit(X, y)"
      ],
      "execution_count": null,
      "outputs": [
        {
          "output_type": "execute_result",
          "data": {
            "text/plain": [
              "LinearRegression()"
            ]
          },
          "metadata": {},
          "execution_count": 6
        }
      ]
    },
    {
      "cell_type": "markdown",
      "metadata": {
        "id": "Hnm9YgjbVQwO"
      },
      "source": [
        "Plot the model's predictions:"
      ]
    },
    {
      "cell_type": "code",
      "metadata": {
        "id": "9NtrLfGGVQwP"
      },
      "source": [
        "#X_fit[]"
      ],
      "execution_count": null,
      "outputs": []
    },
    {
      "cell_type": "code",
      "metadata": {
        "colab": {
          "base_uri": "https://localhost:8080/",
          "height": 287
        },
        "id": "1ZTT31igVQwP",
        "outputId": "d40ea12f-dde3-49e0-9a93-99e9ee4df2ac"
      },
      "source": [
        "# construct best fit line\n",
        "X_fit = np.linspace(0, 2, 100)\n",
        "y_fit = linear_reg.predict(X_fit[:, np.newaxis])\n",
        "\n",
        "plt.scatter(X, y)\n",
        "plt.plot(X_fit, y_fit, \"r-\", linewidth=2, label=\"Predictions\")\n",
        "plt.xlabel(\"$X$\", fontsize=18)\n",
        "plt.ylabel(\"$y$\", rotation=0, fontsize=18)\n",
        "plt.legend(loc=\"upper left\", fontsize=14);"
      ],
      "execution_count": null,
      "outputs": [
        {
          "output_type": "display_data",
          "data": {
            "text/plain": [
              "<Figure size 432x288 with 1 Axes>"
            ],
            "image/png": "[encoded data removed]"
          },
          "metadata": {
            "needs_background": "light"
          }
        }
      ]
    },
    {
      "cell_type": "markdown",
      "metadata": {
        "id": "kIfOsEcWVQwP"
      },
      "source": [
        "Predictions are a good fit."
      ]
    },
    {
      "cell_type": "markdown",
      "metadata": {
        "id": "z2VYUeGrVQwQ"
      },
      "source": [
        "Generate new data to make predictions with the model:"
      ]
    },
    {
      "cell_type": "code",
      "metadata": {
        "colab": {
          "base_uri": "https://localhost:8080/"
        },
        "id": "FuEd0Wp0VQwQ",
        "outputId": "bc27c653-0359-4e23-a2bf-e6d2020b76fd"
      },
      "source": [
        "X_new = np.array([[0], [2]])\n",
        "X_new"
      ],
      "execution_count": null,
      "outputs": [
        {
          "output_type": "execute_result",
          "data": {
            "text/plain": [
              "array([[0],\n",
              "       [2]])"
            ]
          },
          "metadata": {},
          "execution_count": 9
        }
      ]
    },
    {
      "cell_type": "code",
      "metadata": {
        "colab": {
          "base_uri": "https://localhost:8080/"
        },
        "id": "lLCnLm7_VQwQ",
        "outputId": "8e23b402-2765-4295-ac6d-6291c8d7ce2f"
      },
      "source": [
        "X_new.shape"
      ],
      "execution_count": null,
      "outputs": [
        {
          "output_type": "execute_result",
          "data": {
            "text/plain": [
              "(2, 1)"
            ]
          },
          "metadata": {},
          "execution_count": 10
        }
      ]
    },
    {
      "cell_type": "code",
      "metadata": {
        "colab": {
          "base_uri": "https://localhost:8080/"
        },
        "id": "zJIzUfZsVQwQ",
        "outputId": "48b4b506-efef-4b6f-cd35-aec88c869e4a"
      },
      "source": [
        "y_new = linear_reg.predict(X_new)\n",
        "y_new"
      ],
      "execution_count": null,
      "outputs": [
        {
          "output_type": "execute_result",
          "data": {
            "text/plain": [
              "array([[ 3.74406122],\n",
              "       [10.47517611]])"
            ]
          },
          "metadata": {},
          "execution_count": 11
        }
      ]
    },
    {
      "cell_type": "code",
      "metadata": {
        "colab": {
          "base_uri": "https://localhost:8080/"
        },
        "id": "ICiEnkbdVQwQ",
        "outputId": "86f8b4dc-ddd6-4145-bbf6-6c96f7ea84ca"
      },
      "source": [
        " linear_reg.coef_, linear_reg.intercept_"
      ],
      "execution_count": null,
      "outputs": [
        {
          "output_type": "execute_result",
          "data": {
            "text/plain": [
              "(array([[3.36555744]]), array([3.74406122]))"
            ]
          },
          "metadata": {},
          "execution_count": 12
        }
      ]
    },
    {
      "cell_type": "markdown",
      "metadata": {
        "id": "iBXzOecgVQwR"
      },
      "source": [
        "The model estimates:\n",
        "\n",
        "$\\hat{y} = 3.36X + 3.74$"
      ]
    },
    {
      "cell_type": "code",
      "metadata": {
        "id": "ZNvipq0wQYfj"
      },
      "source": [
        "#|VENTAS|GANANCIAS|\n",
        "#COEF*VENTAS+B\n",
        "#|VENTAS|COMPRAS|GANANCIAS|\n",
        "#COEF1*X1+COEF2*X2+B=Y"
      ],
      "execution_count": null,
      "outputs": []
    },
    {
      "cell_type": "markdown",
      "metadata": {
        "id": "_Rv-RJSnVQwR"
      },
      "source": [
        "## Polynomial Regression\n",
        "\n",
        "If data is more complex than a straight line, you can use a linear model ti fit non-linear data adding powers of each feature as new features and then train a linear model on the extended set of features. "
      ]
    },
    {
      "cell_type": "markdown",
      "metadata": {
        "id": "dPrpAVsZVQwR"
      },
      "source": [
        "$$y = a_0 + a_1x_1 + a_2x_2 + a_3x_3 + ...$$ to $$y = a_0 + a_1x + a_2x^2 + a_3x^3+ ...$$ "
      ]
    },
    {
      "cell_type": "markdown",
      "metadata": {
        "id": "9kjMWzEfVQwR"
      },
      "source": [
        "This is still a linear model, the linearity refers to the fact that the coefficients never multiply or divide each other."
      ]
    },
    {
      "cell_type": "markdown",
      "metadata": {
        "id": "2M3fp_CSVQwR"
      },
      "source": [
        "To generate polynomial data we use the function:\n",
        "\n",
        "$y = 0.50X^2 + X + 2 + noise$"
      ]
    },
    {
      "cell_type": "code",
      "metadata": {
        "id": "sSrueMnPVQwR"
      },
      "source": [
        "# generate non-linear data e.g. quadratic equation\n",
        "m = 100\n",
        "X = 6 * np.random.rand(m, 1) - 3\n",
        "y = 0.5 * X**2 + X + 2 + np.random.randn(m, 1)"
      ],
      "execution_count": null,
      "outputs": []
    },
    {
      "cell_type": "code",
      "metadata": {
        "colab": {
          "base_uri": "https://localhost:8080/",
          "height": 291
        },
        "id": "GNQQoXkMVQwS",
        "outputId": "387cac46-ff54-451f-8ba6-1cffc5a1930f"
      },
      "source": [
        "plt.plot(X, y, \"b.\")\n",
        "plt.xlabel(\"$x_1$\", fontsize=18)\n",
        "plt.ylabel(\"$y$\", rotation=0, fontsize=18)\n",
        "plt.axis([-3, 3, 0, 10]);"
      ],
      "execution_count": null,
      "outputs": [
        {
          "output_type": "display_data",
          "data": {
            "text/plain": [
              "<Figure size 432x288 with 1 Axes>"
            ],
            "image/png": "[encoded data removed]"
          },
          "metadata": {
            "needs_background": "light"
          }
        }
      ]
    },
    {
      "cell_type": "code",
      "source": [
        "import pandas as pd\n",
        "pd.DataFrame(y)"
      ],
      "metadata": {
        "id": "YtaK_dsidNcP",
        "outputId": "cdb74fda-635f-4845-c497-e3c48f3bd470",
        "colab": {
          "base_uri": "https://localhost:8080/",
          "height": 419
        }
      },
      "execution_count": null,
      "outputs": [
        {
          "output_type": "execute_result",
          "data": {
            "text/plain": [
              "           0\n",
              "0   8.529240\n",
              "1   3.768929\n",
              "2   3.354423\n",
              "3   2.747935\n",
              "4   0.808458\n",
              "..       ...\n",
              "95  5.346771\n",
              "96  6.338229\n",
              "97  3.488785\n",
              "98  1.372002\n",
              "99 -0.072150\n",
              "\n",
              "[100 rows x 1 columns]"
            ],
            "text/html": [
              "\n",
              "  <div id=\"df-d2e81186-ed91-4263-8e40-abd03b464e91\">\n",
              "    <div class=\"colab-df-container\">\n",
              "      <div>\n",
              "<style scoped>\n",
              "    .dataframe tbody tr th:only-of-type {\n",
              "        vertical-align: middle;\n",
              "    }\n",
              "\n",
              "    .dataframe tbody tr th {\n",
              "        vertical-align: top;\n",
              "    }\n",
              "\n",
              "    .dataframe thead th {\n",
              "        text-align: right;\n",
              "    }\n",
              "</style>\n",
              "<table border=\"1\" class=\"dataframe\">\n",
              "  <thead>\n",
              "    <tr style=\"text-align: right;\">\n",
              "      <th></th>\n",
              "      <th>0</th>\n",
              "    </tr>\n",
              "  </thead>\n",
              "  <tbody>\n",
              "    <tr>\n",
              "      <th>0</th>\n",
              "      <td>8.529240</td>\n",
              "    </tr>\n",
              "    <tr>\n",
              "      <th>1</th>\n",
              "      <td>3.768929</td>\n",
              "    </tr>\n",
              "    <tr>\n",
              "      <th>2</th>\n",
              "      <td>3.354423</td>\n",
              "    </tr>\n",
              "    <tr>\n",
              "      <th>3</th>\n",
              "      <td>2.747935</td>\n",
              "    </tr>\n",
              "    <tr>\n",
              "      <th>4</th>\n",
              "      <td>0.808458</td>\n",
              "    </tr>\n",
              "    <tr>\n",
              "      <th>...</th>\n",
              "      <td>...</td>\n",
              "    </tr>\n",
              "    <tr>\n",
              "      <th>95</th>\n",
              "      <td>5.346771</td>\n",
              "    </tr>\n",
              "    <tr>\n",
              "      <th>96</th>\n",
              "      <td>6.338229</td>\n",
              "    </tr>\n",
              "    <tr>\n",
              "      <th>97</th>\n",
              "      <td>3.488785</td>\n",
              "    </tr>\n",
              "    <tr>\n",
              "      <th>98</th>\n",
              "      <td>1.372002</td>\n",
              "    </tr>\n",
              "    <tr>\n",
              "      <th>99</th>\n",
              "      <td>-0.072150</td>\n",
              "    </tr>\n",
              "  </tbody>\n",
              "</table>\n",
              "<p>100 rows × 1 columns</p>\n",
              "</div>\n",
              "      <button class=\"colab-df-convert\" onclick=\"convertToInteractive('df-d2e81186-ed91-4263-8e40-abd03b464e91')\"\n",
              "              title=\"Convert this dataframe to an interactive table.\"\n",
              "              style=\"display:none;\">\n",
              "        \n",
              "  <svg xmlns=\"http://www.w3.org/2000/svg\" height=\"24px\"viewBox=\"0 0 24 24\"\n",
              "       width=\"24px\">\n",
              "    <path d=\"M0 0h24v24H0V0z\" fill=\"none\"/>\n",
              "    <path d=\"M18.56 5.44l.94 2.06.94-2.06 2.06-.94-2.06-.94-.94-2.06-.94 2.06-2.06.94zm-11 1L8.5 8.5l.94-2.06 2.06-.94-2.06-.94L8.5 2.5l-.94 2.06-2.06.94zm10 10l.94 2.06.94-2.06 2.06-.94-2.06-.94-.94-2.06-.94 2.06-2.06.94z\"/><path d=\"M17.41 7.96l-1.37-1.37c-.4-.4-.92-.59-1.43-.59-.52 0-1.04.2-1.43.59L10.3 9.45l-7.72 7.72c-.78.78-.78 2.05 0 2.83L4 21.41c.39.39.9.59 1.41.59.51 0 1.02-.2 1.41-.59l7.78-7.78 2.81-2.81c.8-.78.8-2.07 0-2.86zM5.41 20L4 18.59l7.72-7.72 1.47 1.35L5.41 20z\"/>\n",
              "  </svg>\n",
              "      </button>\n",
              "      \n",
              "  <style>\n",
              "    .colab-df-container {\n",
              "      display:flex;\n",
              "      flex-wrap:wrap;\n",
              "      gap: 12px;\n",
              "    }\n",
              "\n",
              "    .colab-df-convert {\n",
              "      background-color: #E8F0FE;\n",
              "      border: none;\n",
              "      border-radius: 50%;\n",
              "      cursor: pointer;\n",
              "      display: none;\n",
              "      fill: #1967D2;\n",
              "      height: 32px;\n",
              "      padding: 0 0 0 0;\n",
              "      width: 32px;\n",
              "    }\n",
              "\n",
              "    .colab-df-convert:hover {\n",
              "      background-color: #E2EBFA;\n",
              "      box-shadow: 0px 1px 2px rgba(60, 64, 67, 0.3), 0px 1px 3px 1px rgba(60, 64, 67, 0.15);\n",
              "      fill: #174EA6;\n",
              "    }\n",
              "\n",
              "    [theme=dark] .colab-df-convert {\n",
              "      background-color: #3B4455;\n",
              "      fill: #D2E3FC;\n",
              "    }\n",
              "\n",
              "    [theme=dark] .colab-df-convert:hover {\n",
              "      background-color: #434B5C;\n",
              "      box-shadow: 0px 1px 3px 1px rgba(0, 0, 0, 0.15);\n",
              "      filter: drop-shadow(0px 1px 2px rgba(0, 0, 0, 0.3));\n",
              "      fill: #FFFFFF;\n",
              "    }\n",
              "  </style>\n",
              "\n",
              "      <script>\n",
              "        const buttonEl =\n",
              "          document.querySelector('#df-d2e81186-ed91-4263-8e40-abd03b464e91 button.colab-df-convert');\n",
              "        buttonEl.style.display =\n",
              "          google.colab.kernel.accessAllowed ? 'block' : 'none';\n",
              "\n",
              "        async function convertToInteractive(key) {\n",
              "          const element = document.querySelector('#df-d2e81186-ed91-4263-8e40-abd03b464e91');\n",
              "          const dataTable =\n",
              "            await google.colab.kernel.invokeFunction('convertToInteractive',\n",
              "                                                     [key], {});\n",
              "          if (!dataTable) return;\n",
              "\n",
              "          const docLinkHtml = 'Like what you see? Visit the ' +\n",
              "            '<a target=\"_blank\" href=https://colab.research.google.com/notebooks/data_table.ipynb>data table notebook</a>'\n",
              "            + ' to learn more about interactive tables.';\n",
              "          element.innerHTML = '';\n",
              "          dataTable['output_type'] = 'display_data';\n",
              "          await google.colab.output.renderOutput(dataTable, element);\n",
              "          const docLink = document.createElement('div');\n",
              "          docLink.innerHTML = docLinkHtml;\n",
              "          element.appendChild(docLink);\n",
              "        }\n",
              "      </script>\n",
              "    </div>\n",
              "  </div>\n",
              "  "
            ]
          },
          "metadata": {},
          "execution_count": 16
        }
      ]
    },
    {
      "cell_type": "markdown",
      "metadata": {
        "id": "vrZTRaLNVQwS"
      },
      "source": [
        "Now we can use `PolynomialFeatues` to transform training data adding the square of each feature as new features."
      ]
    },
    {
      "cell_type": "code",
      "metadata": {
        "id": "BXo0Hm56VQwS"
      },
      "source": [
        "from sklearn.preprocessing import PolynomialFeatures\n",
        "\n",
        "poly_features = PolynomialFeatures(degree=2, include_bias=False)\n",
        "X_poly = poly_features.fit_transform(X)"
      ],
      "execution_count": null,
      "outputs": []
    },
    {
      "cell_type": "code",
      "metadata": {
        "colab": {
          "base_uri": "https://localhost:8080/"
        },
        "id": "1FqY9-I4VQwS",
        "outputId": "740f3d64-1fdf-470c-c304-41cf471b4e4e"
      },
      "source": [
        "X_poly"
      ],
      "execution_count": null,
      "outputs": [
        {
          "output_type": "execute_result",
          "data": {
            "text/plain": [
              "array([[ 2.72919168e+00,  7.44848725e+00],\n",
              "       [ 1.42738150e+00,  2.03741795e+00],\n",
              "       [ 3.26124315e-01,  1.06357069e-01],\n",
              "       [ 6.70324477e-01,  4.49334905e-01],\n",
              "       [-4.82399625e-01,  2.32709399e-01],\n",
              "       [-1.51361406e+00,  2.29102753e+00],\n",
              "       [-8.64163928e-01,  7.46779295e-01],\n",
              "       [ 1.54707666e+00,  2.39344620e+00],\n",
              "       [-2.91363907e+00,  8.48929262e+00],\n",
              "       [-2.30356416e+00,  5.30640783e+00],\n",
              "       [-2.72398415e+00,  7.42008964e+00],\n",
              "       [-2.75562719e+00,  7.59348119e+00],\n",
              "       [ 2.13276350e+00,  4.54868016e+00],\n",
              "       [ 1.22194716e+00,  1.49315485e+00],\n",
              "       [-1.54957025e-01,  2.40116797e-02],\n",
              "       [-2.41299504e+00,  5.82254504e+00],\n",
              "       [-5.03047493e-02,  2.53056780e-03],\n",
              "       [-1.59169375e-01,  2.53348900e-02],\n",
              "       [-1.96078878e+00,  3.84469264e+00],\n",
              "       [-3.96890105e-01,  1.57521755e-01],\n",
              "       [-6.08971594e-01,  3.70846402e-01],\n",
              "       [ 6.95100588e-01,  4.83164828e-01],\n",
              "       [ 8.10561905e-01,  6.57010602e-01],\n",
              "       [-2.72817594e+00,  7.44294397e+00],\n",
              "       [-7.52324312e-01,  5.65991871e-01],\n",
              "       [ 7.55159494e-01,  5.70265862e-01],\n",
              "       [ 1.88175515e-02,  3.54100244e-04],\n",
              "       [ 2.13893905e+00,  4.57506025e+00],\n",
              "       [ 9.52161790e-01,  9.06612074e-01],\n",
              "       [-2.02239344e+00,  4.09007522e+00],\n",
              "       [-2.57658752e+00,  6.63880323e+00],\n",
              "       [ 8.54515669e-01,  7.30197029e-01],\n",
              "       [-2.84093214e+00,  8.07089541e+00],\n",
              "       [ 5.14653488e-01,  2.64868212e-01],\n",
              "       [ 2.64138145e+00,  6.97689596e+00],\n",
              "       [ 4.52845067e-01,  2.05068655e-01],\n",
              "       [-6.70980443e-01,  4.50214755e-01],\n",
              "       [ 8.59729311e-01,  7.39134488e-01],\n",
              "       [-2.50482657e-01,  6.27415615e-02],\n",
              "       [ 2.73700736e-01,  7.49120928e-02],\n",
              "       [ 2.64878885e+00,  7.01608239e+00],\n",
              "       [-6.83384173e-01,  4.67013928e-01],\n",
              "       [ 2.76714338e+00,  7.65708250e+00],\n",
              "       [ 2.43210385e+00,  5.91512915e+00],\n",
              "       [-1.82525319e+00,  3.33154921e+00],\n",
              "       [-2.58383219e+00,  6.67618881e+00],\n",
              "       [-2.39533199e+00,  5.73761535e+00],\n",
              "       [-2.89066905e+00,  8.35596753e+00],\n",
              "       [-2.43334224e+00,  5.92115443e+00],\n",
              "       [ 1.09804064e+00,  1.20569325e+00],\n",
              "       [-2.57286811e+00,  6.61965031e+00],\n",
              "       [-1.08614622e+00,  1.17971361e+00],\n",
              "       [ 2.06925187e+00,  4.28180328e+00],\n",
              "       [-2.86036839e+00,  8.18170730e+00],\n",
              "       [ 1.88681090e+00,  3.56005536e+00],\n",
              "       [-1.30887135e+00,  1.71314421e+00],\n",
              "       [-2.29101103e+00,  5.24873156e+00],\n",
              "       [ 1.18042299e+00,  1.39339844e+00],\n",
              "       [ 7.73657081e-01,  5.98545278e-01],\n",
              "       [ 2.26483208e+00,  5.12946436e+00],\n",
              "       [ 1.41042626e+00,  1.98930224e+00],\n",
              "       [ 1.82088558e+00,  3.31562430e+00],\n",
              "       [-1.30779256e+00,  1.71032139e+00],\n",
              "       [-1.93536274e+00,  3.74562893e+00],\n",
              "       [ 1.50368851e+00,  2.26107913e+00],\n",
              "       [ 1.84100844e+00,  3.38931206e+00],\n",
              "       [ 2.94303085e+00,  8.66143060e+00],\n",
              "       [-5.24293939e-01,  2.74884134e-01],\n",
              "       [-7.67891485e-01,  5.89657333e-01],\n",
              "       [ 1.65847776e+00,  2.75054850e+00],\n",
              "       [-9.55178758e-01,  9.12366461e-01],\n",
              "       [ 2.58454395e+00,  6.67986745e+00],\n",
              "       [ 2.15047651e+00,  4.62454922e+00],\n",
              "       [-4.26035836e-01,  1.81506533e-01],\n",
              "       [ 1.50522641e+00,  2.26570654e+00],\n",
              "       [ 1.52725724e+00,  2.33251469e+00],\n",
              "       [-2.38125679e+00,  5.67038389e+00],\n",
              "       [ 2.41531744e+00,  5.83375834e+00],\n",
              "       [ 3.15142347e-02,  9.93146988e-04],\n",
              "       [ 1.95874480e+00,  3.83668118e+00],\n",
              "       [-1.07970239e+00,  1.16575726e+00],\n",
              "       [ 2.37313937e+00,  5.63179047e+00],\n",
              "       [-6.64789928e-01,  4.41945648e-01],\n",
              "       [-2.93497409e+00,  8.61407292e+00],\n",
              "       [ 2.43229186e+00,  5.91604369e+00],\n",
              "       [-2.45227994e+00,  6.01367690e+00],\n",
              "       [-1.08411817e+00,  1.17531222e+00],\n",
              "       [ 2.70037180e+00,  7.29200787e+00],\n",
              "       [ 2.70364288e+00,  7.30968483e+00],\n",
              "       [ 4.40627329e-01,  1.94152443e-01],\n",
              "       [ 7.91023273e-01,  6.25717818e-01],\n",
              "       [-3.09326868e-01,  9.56831113e-02],\n",
              "       [-1.24073537e+00,  1.53942426e+00],\n",
              "       [-1.02801273e+00,  1.05681017e+00],\n",
              "       [ 1.03511074e+00,  1.07145424e+00],\n",
              "       [ 1.51424718e+00,  2.29294451e+00],\n",
              "       [ 1.74947426e+00,  3.06066019e+00],\n",
              "       [ 1.73770886e+00,  3.01963207e+00],\n",
              "       [-2.45276338e+00,  6.01604821e+00],\n",
              "       [-3.34781718e-02,  1.12078799e-03]])"
            ]
          },
          "metadata": {},
          "execution_count": 18
        }
      ]
    },
    {
      "cell_type": "markdown",
      "metadata": {
        "id": "GrFMRU_eVQwS"
      },
      "source": [
        "`X_poly` now contains the original feature of X plus the square of the feature:"
      ]
    },
    {
      "cell_type": "code",
      "metadata": {
        "colab": {
          "base_uri": "https://localhost:8080/"
        },
        "id": "M8FH1dY2UwgN",
        "outputId": "626ee26c-3d50-4982-f6cf-6a915c38506c"
      },
      "source": [
        "print(X[0])\n",
        "print(X[0]*X[0])\n"
      ],
      "execution_count": null,
      "outputs": [
        {
          "output_type": "stream",
          "name": "stdout",
          "text": [
            "[2.72919168]\n",
            "[7.44848725]\n"
          ]
        }
      ]
    },
    {
      "cell_type": "code",
      "metadata": {
        "colab": {
          "base_uri": "https://localhost:8080/"
        },
        "id": "PSflPniWVQwT",
        "outputId": "8ff5488e-053c-420f-b7ea-0ca1e4834f17"
      },
      "source": [
        "X_poly[0]"
      ],
      "execution_count": null,
      "outputs": [
        {
          "output_type": "execute_result",
          "data": {
            "text/plain": [
              "array([2.72919168, 7.44848725])"
            ]
          },
          "metadata": {},
          "execution_count": 20
        }
      ]
    },
    {
      "cell_type": "markdown",
      "metadata": {
        "id": "HaXjXg7FVQwT"
      },
      "source": [
        "Fit the model to this extended training data:"
      ]
    },
    {
      "cell_type": "code",
      "metadata": {
        "colab": {
          "base_uri": "https://localhost:8080/"
        },
        "id": "c0Qu93dgVQwT",
        "outputId": "f59c85f4-2f4d-4561-ef64-6797d93a659b"
      },
      "source": [
        "lin_reg = LinearRegression(fit_intercept=True)\n",
        "lin_reg.fit(X_poly, y)\n",
        "lin_reg.coef_, lin_reg.intercept_"
      ],
      "execution_count": null,
      "outputs": [
        {
          "output_type": "execute_result",
          "data": {
            "text/plain": [
              "(array([[1.04271531, 0.50866711]]), array([2.01873554]))"
            ]
          },
          "metadata": {},
          "execution_count": 21
        }
      ]
    },
    {
      "cell_type": "markdown",
      "metadata": {
        "id": "rKOSwvnmVQwT"
      },
      "source": [
        "The model estimates:\n",
        "\n",
        "$\\hat{y} =  0.89X +0.48X^2 + 2.09$"
      ]
    },
    {
      "cell_type": "markdown",
      "metadata": {
        "id": "_EtZEKz5VQwT"
      },
      "source": [
        "Plot the data and the predictions:"
      ]
    },
    {
      "cell_type": "code",
      "metadata": {
        "colab": {
          "base_uri": "https://localhost:8080/",
          "height": 291
        },
        "id": "6Q8dHRgdVQwT",
        "outputId": "897e2981-1c59-4ef3-abab-d4a8713817fb"
      },
      "source": [
        "X_new=np.linspace(-3, 3, 100).reshape(100, 1)\n",
        "X_new_poly = poly_features.transform(X_new)\n",
        "y_new = lin_reg.predict(X_new_poly)\n",
        "plt.plot(X, y, \"b.\")\n",
        "plt.plot(X_new, y_new, \"r-\", linewidth=2, label=\"Predictions\")\n",
        "plt.xlabel(\"$x_1$\", fontsize=18)\n",
        "plt.ylabel(\"$y$\", rotation=0, fontsize=18)\n",
        "plt.legend(loc=\"upper left\", fontsize=14)\n",
        "plt.axis([-3, 3, 0, 10]);"
      ],
      "execution_count": null,
      "outputs": [
        {
          "output_type": "display_data",
          "data": {
            "text/plain": [
              "<Figure size 432x288 with 1 Axes>"
            ],
            "image/png": "[encoded data removed]"
          },
          "metadata": {
            "needs_background": "light"
          }
        }
      ]
    },
    {
      "cell_type": "code",
      "source": [],
      "metadata": {
        "id": "vyq0o8f2pcqa"
      },
      "execution_count": null,
      "outputs": []
    },
    {
      "cell_type": "markdown",
      "source": [
        "## R square\n",
        "\n",
        "R² es una medida estadística de qué tan cerca están los datos de la línea de regresión ajustada. También se conoce como el coeficiente de determinación o el coeficiente de determinación múltiple para la regresión múltiple. Para decirlo en un lenguaje más simple, R² es una medida de ajuste para los modelos de regresión lineal.\n",
        "\n",
        "\n",
        "\n",
        "R² no indica si un modelo de regresión se ajusta adecuadamente a sus datos. Un buen modelo puede tener un valor R² bajo. Por otro lado, un modelo sesgado puede tener un valor alto de R².\n",
        "\n",
        " SSres + SSreg = SStot, R² = Explained variation / Total Variation\n",
        " \n",
        " ![image.png](https://i.stack.imgur.com/xb1VY.png)\n",
        " \n",
        "![image.png](https://3.bp.blogspot.com/-MFqQLwbGwd4/WMO7tz39beI/AAAAAAAAF9I/Bjpfohgv_5E4lu7HzHJBQtXsBM--byqPwCLcB/s1600/rsquared.png)\n"
      ],
      "metadata": {
        "id": "TIFwAtW1pc6h"
      }
    },
    {
      "cell_type": "markdown",
      "metadata": {
        "id": "nTKFj4x9LMXm"
      },
      "source": [
        "# Ejercicio 1\n",
        "\n",
        "Utiliza la base de datos de \n",
        "https://www.kaggle.com/vinicius150987/manufacturing-cost\n",
        "\n",
        "Suponga que trabaja como consultor de una empresa de nueva creación que busca desarrollar un modelo para estimar el costo de los bienes vendidos a medida que varían el volumen de producción (número de unidades producidas). La startup recopiló datos y le pidió que desarrollara un modelo para predecir su costo frente a la cantidad de unidades vendidas."
      ]
    },
    {
      "cell_type": "code",
      "source": [
        "from sklearn.model_selection import train_test_split\n",
        "from sklearn import metrics\n",
        "from sklearn.metrics import r2_score\n",
        "from sklearn.linear_model import Ridge, Lasso"
      ],
      "metadata": {
        "id": "ohvCm7-AzEog"
      },
      "execution_count": null,
      "outputs": []
    },
    {
      "cell_type": "code",
      "metadata": {
        "colab": {
          "base_uri": "https://localhost:8080/",
          "height": 359
        },
        "id": "oTnErQOkL3oa",
        "outputId": "8e318766-2439-4b58-f4e6-7aa7f75de867"
      },
      "source": [
        "import pandas as pd\n",
        "df = pd.read_csv('https://raw.githubusercontent.com/marypazrf/bdd/main/EconomiesOfScale.csv')\n",
        "df.sample(10)"
      ],
      "execution_count": null,
      "outputs": [
        {
          "output_type": "execute_result",
          "data": {
            "text/plain": [
              "     Number of Units  Manufacturing Cost\n",
              "968         7.065653           27.804027\n",
              "212         3.372115           41.127212\n",
              "416         4.194513           43.832711\n",
              "677         5.068888           41.225741\n",
              "550         4.604122           37.569764\n",
              "764         5.389522           31.191501\n",
              "386         4.104190           42.988730\n",
              "339         3.942214           46.291435\n",
              "82          2.665856           48.578425\n",
              "487         4.399514           37.567914"
            ],
            "text/html": [
              "\n",
              "  <div id=\"df-25f930d0-2726-486d-bb85-87c393849e66\">\n",
              "    <div class=\"colab-df-container\">\n",
              "      <div>\n",
              "<style scoped>\n",
              "    .dataframe tbody tr th:only-of-type {\n",
              "        vertical-align: middle;\n",
              "    }\n",
              "\n",
              "    .dataframe tbody tr th {\n",
              "        vertical-align: top;\n",
              "    }\n",
              "\n",
              "    .dataframe thead th {\n",
              "        text-align: right;\n",
              "    }\n",
              "</style>\n",
              "<table border=\"1\" class=\"dataframe\">\n",
              "  <thead>\n",
              "    <tr style=\"text-align: right;\">\n",
              "      <th></th>\n",
              "      <th>Number of Units</th>\n",
              "      <th>Manufacturing Cost</th>\n",
              "    </tr>\n",
              "  </thead>\n",
              "  <tbody>\n",
              "    <tr>\n",
              "      <th>968</th>\n",
              "      <td>7.065653</td>\n",
              "      <td>27.804027</td>\n",
              "    </tr>\n",
              "    <tr>\n",
              "      <th>212</th>\n",
              "      <td>3.372115</td>\n",
              "      <td>41.127212</td>\n",
              "    </tr>\n",
              "    <tr>\n",
              "      <th>416</th>\n",
              "      <td>4.194513</td>\n",
              "      <td>43.832711</td>\n",
              "    </tr>\n",
              "    <tr>\n",
              "      <th>677</th>\n",
              "      <td>5.068888</td>\n",
              "      <td>41.225741</td>\n",
              "    </tr>\n",
              "    <tr>\n",
              "      <th>550</th>\n",
              "      <td>4.604122</td>\n",
              "      <td>37.569764</td>\n",
              "    </tr>\n",
              "    <tr>\n",
              "      <th>764</th>\n",
              "      <td>5.389522</td>\n",
              "      <td>31.191501</td>\n",
              "    </tr>\n",
              "    <tr>\n",
              "      <th>386</th>\n",
              "      <td>4.104190</td>\n",
              "      <td>42.988730</td>\n",
              "    </tr>\n",
              "    <tr>\n",
              "      <th>339</th>\n",
              "      <td>3.942214</td>\n",
              "      <td>46.291435</td>\n",
              "    </tr>\n",
              "    <tr>\n",
              "      <th>82</th>\n",
              "      <td>2.665856</td>\n",
              "      <td>48.578425</td>\n",
              "    </tr>\n",
              "    <tr>\n",
              "      <th>487</th>\n",
              "      <td>4.399514</td>\n",
              "      <td>37.567914</td>\n",
              "    </tr>\n",
              "  </tbody>\n",
              "</table>\n",
              "</div>\n",
              "      <button class=\"colab-df-convert\" onclick=\"convertToInteractive('df-25f930d0-2726-486d-bb85-87c393849e66')\"\n",
              "              title=\"Convert this dataframe to an interactive table.\"\n",
              "              style=\"display:none;\">\n",
              "        \n",
              "  <svg xmlns=\"http://www.w3.org/2000/svg\" height=\"24px\"viewBox=\"0 0 24 24\"\n",
              "       width=\"24px\">\n",
              "    <path d=\"M0 0h24v24H0V0z\" fill=\"none\"/>\n",
              "    <path d=\"M18.56 5.44l.94 2.06.94-2.06 2.06-.94-2.06-.94-.94-2.06-.94 2.06-2.06.94zm-11 1L8.5 8.5l.94-2.06 2.06-.94-2.06-.94L8.5 2.5l-.94 2.06-2.06.94zm10 10l.94 2.06.94-2.06 2.06-.94-2.06-.94-.94-2.06-.94 2.06-2.06.94z\"/><path d=\"M17.41 7.96l-1.37-1.37c-.4-.4-.92-.59-1.43-.59-.52 0-1.04.2-1.43.59L10.3 9.45l-7.72 7.72c-.78.78-.78 2.05 0 2.83L4 21.41c.39.39.9.59 1.41.59.51 0 1.02-.2 1.41-.59l7.78-7.78 2.81-2.81c.8-.78.8-2.07 0-2.86zM5.41 20L4 18.59l7.72-7.72 1.47 1.35L5.41 20z\"/>\n",
              "  </svg>\n",
              "      </button>\n",
              "      \n",
              "  <style>\n",
              "    .colab-df-container {\n",
              "      display:flex;\n",
              "      flex-wrap:wrap;\n",
              "      gap: 12px;\n",
              "    }\n",
              "\n",
              "    .colab-df-convert {\n",
              "      background-color: #E8F0FE;\n",
              "      border: none;\n",
              "      border-radius: 50%;\n",
              "      cursor: pointer;\n",
              "      display: none;\n",
              "      fill: #1967D2;\n",
              "      height: 32px;\n",
              "      padding: 0 0 0 0;\n",
              "      width: 32px;\n",
              "    }\n",
              "\n",
              "    .colab-df-convert:hover {\n",
              "      background-color: #E2EBFA;\n",
              "      box-shadow: 0px 1px 2px rgba(60, 64, 67, 0.3), 0px 1px 3px 1px rgba(60, 64, 67, 0.15);\n",
              "      fill: #174EA6;\n",
              "    }\n",
              "\n",
              "    [theme=dark] .colab-df-convert {\n",
              "      background-color: #3B4455;\n",
              "      fill: #D2E3FC;\n",
              "    }\n",
              "\n",
              "    [theme=dark] .colab-df-convert:hover {\n",
              "      background-color: #434B5C;\n",
              "      box-shadow: 0px 1px 3px 1px rgba(0, 0, 0, 0.15);\n",
              "      filter: drop-shadow(0px 1px 2px rgba(0, 0, 0, 0.3));\n",
              "      fill: #FFFFFF;\n",
              "    }\n",
              "  </style>\n",
              "\n",
              "      <script>\n",
              "        const buttonEl =\n",
              "          document.querySelector('#df-25f930d0-2726-486d-bb85-87c393849e66 button.colab-df-convert');\n",
              "        buttonEl.style.display =\n",
              "          google.colab.kernel.accessAllowed ? 'block' : 'none';\n",
              "\n",
              "        async function convertToInteractive(key) {\n",
              "          const element = document.querySelector('#df-25f930d0-2726-486d-bb85-87c393849e66');\n",
              "          const dataTable =\n",
              "            await google.colab.kernel.invokeFunction('convertToInteractive',\n",
              "                                                     [key], {});\n",
              "          if (!dataTable) return;\n",
              "\n",
              "          const docLinkHtml = 'Like what you see? Visit the ' +\n",
              "            '<a target=\"_blank\" href=https://colab.research.google.com/notebooks/data_table.ipynb>data table notebook</a>'\n",
              "            + ' to learn more about interactive tables.';\n",
              "          element.innerHTML = '';\n",
              "          dataTable['output_type'] = 'display_data';\n",
              "          await google.colab.output.renderOutput(dataTable, element);\n",
              "          const docLink = document.createElement('div');\n",
              "          docLink.innerHTML = docLinkHtml;\n",
              "          element.appendChild(docLink);\n",
              "        }\n",
              "      </script>\n",
              "    </div>\n",
              "  </div>\n",
              "  "
            ]
          },
          "metadata": {},
          "execution_count": 24
        }
      ]
    },
    {
      "cell_type": "code",
      "metadata": {
        "id": "14kGO5nkMGlV"
      },
      "source": [
        "X = df[['Number of Units']]\n",
        "y = df['Manufacturing Cost']"
      ],
      "execution_count": null,
      "outputs": []
    },
    {
      "cell_type": "code",
      "source": [
        "len(X)"
      ],
      "metadata": {
        "id": "ksh_OrkjY3GW",
        "outputId": "a55afc80-3861-4614-8c09-2c8569186574",
        "colab": {
          "base_uri": "https://localhost:8080/"
        }
      },
      "execution_count": null,
      "outputs": [
        {
          "output_type": "execute_result",
          "data": {
            "text/plain": [
              "1000"
            ]
          },
          "metadata": {},
          "execution_count": 26
        }
      ]
    },
    {
      "cell_type": "code",
      "source": [
        "y.describe"
      ],
      "metadata": {
        "colab": {
          "base_uri": "https://localhost:8080/"
        },
        "id": "bwR6SSqQDfC2",
        "outputId": "e7c8d2c1-6e26-4477-b1b4-8f9ac757993e"
      },
      "execution_count": null,
      "outputs": [
        {
          "output_type": "execute_result",
          "data": {
            "text/plain": [
              "<bound method NDFrame.describe of 0      95.066056\n",
              "1      96.531750\n",
              "2      73.661311\n",
              "3      95.566843\n",
              "4      98.777013\n",
              "         ...    \n",
              "995    23.855067\n",
              "996    27.536542\n",
              "997    25.973787\n",
              "998    25.138311\n",
              "999    21.547777\n",
              "Name: Manufacturing Cost, Length: 1000, dtype: float64>"
            ]
          },
          "metadata": {},
          "execution_count": 27
        }
      ]
    },
    {
      "cell_type": "code",
      "metadata": {
        "colab": {
          "base_uri": "https://localhost:8080/",
          "height": 282
        },
        "id": "idoEjfEhMoxk",
        "outputId": "66bc0a6e-f841-4c92-bb53-d4f1590befd4"
      },
      "source": [
        "plt.plot(X,y,'b.')"
      ],
      "execution_count": null,
      "outputs": [
        {
          "output_type": "execute_result",
          "data": {
            "text/plain": [
              "[<matplotlib.lines.Line2D at 0x7f8207325e50>]"
            ]
          },
          "metadata": {},
          "execution_count": 28
        },
        {
          "output_type": "display_data",
          "data": {
            "text/plain": [
              "<Figure size 432x288 with 1 Axes>"
            ],
            "image/png": "[encoded data removed]"
          },
          "metadata": {
            "needs_background": "light"
          }
        }
      ]
    },
    {
      "cell_type": "code",
      "source": [
        "X_train, X_test, y_train, y_test = train_test_split(X, y, test_size = 0.1, random_state = 101)"
      ],
      "metadata": {
        "id": "vMQh3dW-zUS_"
      },
      "execution_count": null,
      "outputs": []
    },
    {
      "cell_type": "code",
      "source": [
        "MAE = pd.DataFrame()\n",
        "RMSE = pd.DataFrame()\n",
        "R2 = pd.DataFrame()"
      ],
      "metadata": {
        "id": "LOtdZ8f9KcgG"
      },
      "execution_count": null,
      "outputs": []
    },
    {
      "cell_type": "markdown",
      "source": [
        "## Lineal"
      ],
      "metadata": {
        "id": "upfTah2ezaC4"
      }
    },
    {
      "cell_type": "code",
      "source": [
        "#lineal\n",
        "linear_reg = LinearRegression(fit_intercept=True)\n",
        "linear_reg.fit(X_train, y_train)\n",
        "linear_reg.coef_, linear_reg.intercept_"
      ],
      "metadata": {
        "colab": {
          "base_uri": "https://localhost:8080/"
        },
        "id": "bPzzr0z3zY4V",
        "outputId": "e7597d84-709f-4eeb-9008-8db374036791"
      },
      "execution_count": null,
      "outputs": [
        {
          "output_type": "execute_result",
          "data": {
            "text/plain": [
              "(array([-5.98882699]), 66.83650741226988)"
            ]
          },
          "metadata": {},
          "execution_count": 31
        }
      ]
    },
    {
      "cell_type": "markdown",
      "source": [
        "La ecuación estimada por el modelo es la siguiente:\n",
        "\n",
        "$\\hat{y} = -5.988X + 66.836$"
      ],
      "metadata": {
        "id": "w_qiVtsV06It"
      }
    },
    {
      "cell_type": "markdown",
      "source": [
        "La recta se muestra a continuación junto con los datos reales:"
      ],
      "metadata": {
        "id": "qcDGd6e81pe2"
      }
    },
    {
      "cell_type": "code",
      "source": [
        "X_fit = np.linspace(1, 10, 100)\n",
        "y_fit = linear_reg.predict(X_fit[:, np.newaxis])\n",
        "\n",
        "plt.scatter(X_train, y_train)\n",
        "plt.plot(X_fit, y_fit, \"r-\", linewidth=2, label=\"Predictions\")\n",
        "plt.xlabel(\"$X$\", fontsize=18)\n",
        "plt.ylabel(\"$y$\", rotation=0, fontsize=18)\n",
        "plt.legend(loc=\"upper left\", fontsize=14);"
      ],
      "metadata": {
        "colab": {
          "base_uri": "https://localhost:8080/",
          "height": 341
        },
        "id": "Bm6KwfuSzzeb",
        "outputId": "d5041331-0533-4008-d620-7788f17931eb"
      },
      "execution_count": null,
      "outputs": [
        {
          "output_type": "stream",
          "name": "stderr",
          "text": [
            "/usr/local/lib/python3.7/dist-packages/sklearn/base.py:451: UserWarning: X does not have valid feature names, but LinearRegression was fitted with feature names\n",
            "  \"X does not have valid feature names, but\"\n"
          ]
        },
        {
          "output_type": "display_data",
          "data": {
            "text/plain": [
              "<Figure size 432x288 with 1 Axes>"
            ],
            "image/png": "[encoded data removed]"
          },
          "metadata": {
            "needs_background": "light"
          }
        }
      ]
    },
    {
      "cell_type": "code",
      "source": [
        "y_pred = linear_reg.predict(X_test)\n",
        "\n",
        "print('Error medio Absoluto (MAE):', metrics.mean_absolute_error(y_test, y_pred))\n",
        "print('Root Mean Squared Error:', np.sqrt(metrics.mean_squared_error(y_test, y_pred)))\n",
        "print('r2_score',r2_score(y_test, y_pred))\n",
        "\n",
        "MAE.insert(0, \"Lineal\", [metrics.mean_absolute_error(y_test, y_pred)], True)\n",
        "RMSE.insert(0, \"Lineal\", [np.sqrt(metrics.mean_squared_error(y_test, y_pred))], True)\n",
        "R2.insert(0, \"Lineal\", [r2_score(y_test, y_pred)], True)"
      ],
      "metadata": {
        "colab": {
          "base_uri": "https://localhost:8080/"
        },
        "id": "wpneluYd1vV0",
        "outputId": "e50ea18f-6d20-42a6-8514-94b206c158ba"
      },
      "execution_count": null,
      "outputs": [
        {
          "output_type": "stream",
          "name": "stdout",
          "text": [
            "Error medio Absoluto (MAE): 5.013587781954963\n",
            "Root Mean Squared Error: 7.108963321847682\n",
            "r2_score 0.6116251549562579\n"
          ]
        }
      ]
    },
    {
      "cell_type": "markdown",
      "source": [
        "## Polinomial"
      ],
      "metadata": {
        "id": "971pbrAizfbY"
      }
    },
    {
      "cell_type": "code",
      "source": [
        "#polinomial\n",
        "poly_features = PolynomialFeatures(degree=3, include_bias=False)\n",
        "X_poly_train = poly_features.fit_transform(X_train)\n",
        "X_poly_test = poly_features.fit_transform(X_test)"
      ],
      "metadata": {
        "id": "LWvfEDGKuoLJ"
      },
      "execution_count": null,
      "outputs": []
    },
    {
      "cell_type": "code",
      "source": [
        "lin_reg = LinearRegression(fit_intercept=True)\n",
        "lin_reg.fit(X_poly_train, y_train)\n",
        "lin_reg.coef_, lin_reg.intercept_"
      ],
      "metadata": {
        "colab": {
          "base_uri": "https://localhost:8080/"
        },
        "id": "6B8i92hr2lc7",
        "outputId": "b2824403-d2c2-4e90-b5e0-0df1c9620371"
      },
      "execution_count": null,
      "outputs": [
        {
          "output_type": "execute_result",
          "data": {
            "text/plain": [
              "(array([-32.54637447,   4.74715887,  -0.24753202]), 110.3994754620544)"
            ]
          },
          "metadata": {},
          "execution_count": 35
        }
      ]
    },
    {
      "cell_type": "markdown",
      "source": [
        "La ecuación estimada por el modelo es la siguiente:\n",
        "\n",
        "$\\hat{y} =  -32.546X + 4.74X^2 + -0.24X^3 + 110.39$"
      ],
      "metadata": {
        "id": "FvK6b_kd4GPX"
      }
    },
    {
      "cell_type": "code",
      "source": [
        "X_new = np.linspace(1, 10, 100).reshape(100, 1)\n",
        "X_new_poly = poly_features.transform(X_new)\n",
        "y_new = lin_reg.predict(X_new_poly)\n",
        "plt.plot(X_train, y_train, \"b.\")\n",
        "plt.plot(X_new, y_new, \"r-\", linewidth=2, label=\"Predictions\")\n",
        "plt.xlabel(\"$x_1$\", fontsize=18)\n",
        "plt.ylabel(\"$y$\", rotation=0, fontsize=18)\n",
        "plt.legend(loc=\"upper left\", fontsize=14)"
      ],
      "metadata": {
        "colab": {
          "base_uri": "https://localhost:8080/",
          "height": 358
        },
        "id": "ooRk1jM14Fj6",
        "outputId": "87290ef0-983e-430b-f9a3-4f5a19b89914"
      },
      "execution_count": null,
      "outputs": [
        {
          "output_type": "stream",
          "name": "stderr",
          "text": [
            "/usr/local/lib/python3.7/dist-packages/sklearn/base.py:451: UserWarning: X does not have valid feature names, but PolynomialFeatures was fitted with feature names\n",
            "  \"X does not have valid feature names, but\"\n"
          ]
        },
        {
          "output_type": "execute_result",
          "data": {
            "text/plain": [
              "<matplotlib.legend.Legend at 0x7f8204e4ec90>"
            ]
          },
          "metadata": {},
          "execution_count": 36
        },
        {
          "output_type": "display_data",
          "data": {
            "text/plain": [
              "<Figure size 432x288 with 1 Axes>"
            ],
            "image/png": "[encoded data removed]"
          },
          "metadata": {
            "needs_background": "light"
          }
        }
      ]
    },
    {
      "cell_type": "code",
      "source": [
        "y_pred = lin_reg.predict(X_poly_test)\n",
        "\n",
        "print('Error medio Absoluto (MAE):', metrics.mean_absolute_error(y_test, y_pred))\n",
        "print('Root Mean Squared Error:', np.sqrt(metrics.mean_squared_error(y_test, y_pred)))\n",
        "print('r2_score',r2_score(y_test, y_pred))\n",
        "\n",
        "MAE.insert(1, \"Polinomial\", [metrics.mean_absolute_error(y_test, y_pred)], True)\n",
        "RMSE.insert(1, \"Polinomial\", [np.sqrt(metrics.mean_squared_error(y_test, y_pred))], True)\n",
        "R2.insert(1, \"Polinomial\", [r2_score(y_test, y_pred)], True)"
      ],
      "metadata": {
        "colab": {
          "base_uri": "https://localhost:8080/"
        },
        "id": "5Ml5gq8B5LM5",
        "outputId": "cb51ba92-b760-4bbd-db34-158b87659bbb"
      },
      "execution_count": null,
      "outputs": [
        {
          "output_type": "stream",
          "name": "stdout",
          "text": [
            "Error medio Absoluto (MAE): 4.386320983977357\n",
            "Root Mean Squared Error: 5.503891280141207\n",
            "r2_score 0.7672025391579643\n"
          ]
        }
      ]
    },
    {
      "cell_type": "markdown",
      "source": [
        "## Ridge"
      ],
      "metadata": {
        "id": "P5DH-UYC8bBt"
      }
    },
    {
      "cell_type": "code",
      "source": [
        "linear_reg_ridge = Ridge(fit_intercept=True)\n",
        "linear_reg_ridge.fit(X_poly_train, y_train)\n",
        "linear_reg_ridge.coef_, linear_reg_ridge.intercept_"
      ],
      "metadata": {
        "colab": {
          "base_uri": "https://localhost:8080/"
        },
        "id": "IipgwILe8evT",
        "outputId": "8cb1c45f-f8d9-4c2b-c07e-e1abecb9a536"
      },
      "execution_count": null,
      "outputs": [
        {
          "output_type": "execute_result",
          "data": {
            "text/plain": [
              "(array([-28.54299067,   3.89974333,  -0.19244515]), 104.6828478700723)"
            ]
          },
          "metadata": {},
          "execution_count": 38
        }
      ]
    },
    {
      "cell_type": "markdown",
      "source": [
        "La ecuación estimada por el modelo es la siguiente:\n",
        "\n",
        "$\\hat{y} =  -28.542X + 3.899X^2 + -0.19X^3 + 104.68$"
      ],
      "metadata": {
        "id": "3_f3udMQUy0Q"
      }
    },
    {
      "cell_type": "code",
      "source": [
        "X_fit = np.linspace(1, 10, 100).reshape(100, 1)\n",
        "X_fit_poly = poly_features.transform(X_fit)\n",
        "y_fit = linear_reg_ridge.predict(X_fit_poly)\n",
        "\n",
        "plt.scatter(X_train, y_train)\n",
        "plt.plot(X_fit, y_fit, \"r-\", linewidth=2, label=\"Predictions\")\n",
        "plt.xlabel(\"$X$\", fontsize=18)\n",
        "plt.ylabel(\"$y$\", rotation=0, fontsize=18)\n",
        "plt.legend(loc=\"upper left\", fontsize=14);"
      ],
      "metadata": {
        "colab": {
          "base_uri": "https://localhost:8080/",
          "height": 341
        },
        "id": "xq_TOg05UzJV",
        "outputId": "71aa0e86-f268-4c73-c92e-7c1389579215"
      },
      "execution_count": null,
      "outputs": [
        {
          "output_type": "stream",
          "name": "stderr",
          "text": [
            "/usr/local/lib/python3.7/dist-packages/sklearn/base.py:451: UserWarning: X does not have valid feature names, but PolynomialFeatures was fitted with feature names\n",
            "  \"X does not have valid feature names, but\"\n"
          ]
        },
        {
          "output_type": "display_data",
          "data": {
            "text/plain": [
              "<Figure size 432x288 with 1 Axes>"
            ],
            "image/png": "[encoded data removed]"
          },
          "metadata": {
            "needs_background": "light"
          }
        }
      ]
    },
    {
      "cell_type": "code",
      "source": [
        "y_pred = linear_reg_ridge.predict(X_poly_test)\n",
        "\n",
        "print('Error medio Absoluto (MAE):', metrics.mean_absolute_error(y_test, y_pred))\n",
        "print('Root Mean Squared Error:', np.sqrt(metrics.mean_squared_error(y_test, y_pred)))\n",
        "print('r2_score',r2_score(y_test, y_pred))\n",
        "\n",
        "MAE.insert(2, \"Ridge\", [metrics.mean_absolute_error(y_test, y_pred)], True)\n",
        "RMSE.insert(2, \"Ridge\", [np.sqrt(metrics.mean_squared_error(y_test, y_pred))], True)\n",
        "R2.insert(2, \"Ridge\", [r2_score(y_test, y_pred)], True)"
      ],
      "metadata": {
        "colab": {
          "base_uri": "https://localhost:8080/"
        },
        "id": "P2in0DohVOOi",
        "outputId": "8dde861c-e986-477c-a3a3-4ffc93209dcb"
      },
      "execution_count": null,
      "outputs": [
        {
          "output_type": "stream",
          "name": "stdout",
          "text": [
            "Error medio Absoluto (MAE): 4.354004756667257\n",
            "Root Mean Squared Error: 5.552990824145278\n",
            "r2_score 0.7630304970448922\n"
          ]
        }
      ]
    },
    {
      "cell_type": "markdown",
      "source": [
        "## Lasso"
      ],
      "metadata": {
        "id": "GN5KLNhH8c-S"
      }
    },
    {
      "cell_type": "code",
      "source": [
        "linear_reg_lasso = Lasso(fit_intercept=True)\n",
        "linear_reg_lasso.fit(X_poly_train, y_train)\n",
        "linear_reg_lasso.coef_, linear_reg_lasso.intercept_"
      ],
      "metadata": {
        "colab": {
          "base_uri": "https://localhost:8080/"
        },
        "id": "iEklgFc48mAg",
        "outputId": "24b5d256-5c00-430a-d758-eec7329d5960"
      },
      "execution_count": null,
      "outputs": [
        {
          "output_type": "execute_result",
          "data": {
            "text/plain": [
              "(array([-0.       , -1.9395849,  0.1753369]), 62.353449206844175)"
            ]
          },
          "metadata": {},
          "execution_count": 41
        }
      ]
    },
    {
      "cell_type": "markdown",
      "source": [
        "La ecuación estimada por el modelo es la siguiente:\n",
        "\n",
        "$\\hat{y} =  - 1.93X^2 + 0.17X^3 + 62.35$\n",
        "\n",
        "En este caso, vemos que el modelo polinomial con regularización Lasso no considera importante al término lineal."
      ],
      "metadata": {
        "id": "qRdYX_HHVno6"
      }
    },
    {
      "cell_type": "code",
      "source": [
        "X_fit = np.linspace(1, 10, 100).reshape(100, 1)\n",
        "X_fit_poly = poly_features.transform(X_fit)\n",
        "y_fit = linear_reg_lasso.predict(X_fit_poly)\n",
        "\n",
        "plt.scatter(X_train, y_train)\n",
        "plt.plot(X_fit, y_fit, \"r-\", linewidth=2, label=\"Predictions\")\n",
        "plt.xlabel(\"$X$\", fontsize=18)\n",
        "plt.ylabel(\"$y$\", rotation=0, fontsize=18)\n",
        "plt.legend(loc=\"upper left\", fontsize=14);"
      ],
      "metadata": {
        "colab": {
          "base_uri": "https://localhost:8080/",
          "height": 341
        },
        "id": "sFvrErLMVxZ4",
        "outputId": "914cab3e-1c46-4c9e-f437-c46e28b519b2"
      },
      "execution_count": null,
      "outputs": [
        {
          "output_type": "stream",
          "name": "stderr",
          "text": [
            "/usr/local/lib/python3.7/dist-packages/sklearn/base.py:451: UserWarning: X does not have valid feature names, but PolynomialFeatures was fitted with feature names\n",
            "  \"X does not have valid feature names, but\"\n"
          ]
        },
        {
          "output_type": "display_data",
          "data": {
            "text/plain": [
              "<Figure size 432x288 with 1 Axes>"
            ],
            "image/png": "[encoded data removed]"
          },
          "metadata": {
            "needs_background": "light"
          }
        }
      ]
    },
    {
      "cell_type": "code",
      "source": [
        "y_pred = linear_reg_lasso.predict(X_poly_test)\n",
        "\n",
        "print('Error medio Absoluto (MAE):', metrics.mean_absolute_error(y_test, y_pred))\n",
        "print('Root Mean Squared Error:', np.sqrt(metrics.mean_squared_error(y_test, y_pred)))\n",
        "print('r2_score',r2_score(y_test, y_pred))\n",
        "\n",
        "MAE.insert(3, \"Lasso\", [metrics.mean_absolute_error(y_test, y_pred)], True)\n",
        "RMSE.insert(3, \"Lasso\", [np.sqrt(metrics.mean_squared_error(y_test, y_pred))], True)\n",
        "R2.insert(3, \"Lasso\", [r2_score(y_test, y_pred)], True)"
      ],
      "metadata": {
        "colab": {
          "base_uri": "https://localhost:8080/"
        },
        "id": "y_K9UJOAV8H1",
        "outputId": "45f9a5ed-c2a9-4432-f799-adeabf178d4c"
      },
      "execution_count": null,
      "outputs": [
        {
          "output_type": "stream",
          "name": "stdout",
          "text": [
            "Error medio Absoluto (MAE): 4.684029798147334\n",
            "Root Mean Squared Error: 6.815102615505345\n",
            "r2_score 0.6430697593569206\n"
          ]
        }
      ]
    },
    {
      "cell_type": "markdown",
      "source": [
        "## Comparación"
      ],
      "metadata": {
        "id": "rcdl5YNt8o5T"
      }
    },
    {
      "cell_type": "code",
      "source": [
        "models = list(MAE.keys())\n",
        "values = [item for sublist in MAE.values for item in sublist]\n",
        "  \n",
        "fig = plt.figure(figsize = (10, 5))\n",
        " \n",
        "plt.bar(models, values, color ='red',\n",
        "        width = 0.4)\n",
        " \n",
        "plt.xlabel(\"Model\")\n",
        "plt.ylabel(\"MAE\")\n",
        "plt.title(\"MAE scores for each model\")\n",
        "plt.show()"
      ],
      "metadata": {
        "colab": {
          "base_uri": "https://localhost:8080/",
          "height": 350
        },
        "id": "3FRBvXj08pRD",
        "outputId": "d2482d82-8037-4272-8b63-5eaa4e9cfb59"
      },
      "execution_count": null,
      "outputs": [
        {
          "output_type": "display_data",
          "data": {
            "text/plain": [
              "<Figure size 720x360 with 1 Axes>"
            ],
            "image/png": "[encoded data removed]"
          },
          "metadata": {
            "needs_background": "light"
          }
        }
      ]
    },
    {
      "cell_type": "code",
      "source": [
        "models = list(R2.keys())\n",
        "values = [item for sublist in R2.values for item in sublist]\n",
        "  \n",
        "fig = plt.figure(figsize = (10, 5))\n",
        " \n",
        "plt.bar(models, values, color ='blue',\n",
        "        width = 0.4)\n",
        " \n",
        "plt.xlabel(\"Model\")\n",
        "plt.ylabel(\"R2\")\n",
        "plt.title(\"R2 scores for each model\")\n",
        "plt.show()"
      ],
      "metadata": {
        "colab": {
          "base_uri": "https://localhost:8080/",
          "height": 350
        },
        "id": "6BTiqAxiOeKF",
        "outputId": "406dbcbb-473d-4b44-8874-e6bdec54e87a"
      },
      "execution_count": null,
      "outputs": [
        {
          "output_type": "display_data",
          "data": {
            "text/plain": [
              "<Figure size 720x360 with 1 Axes>"
            ],
            "image/png": "[encoded data removed]"
          },
          "metadata": {
            "needs_background": "light"
          }
        }
      ]
    },
    {
      "cell_type": "markdown",
      "source": [
        "En comparación con el modelo lineal, los modelos polinomiales se comportaron mejor. En particular, el modelo polinomial simple y el modelo con regularización Ridge tuvieron los mejores desempeños, aunque con resultados muy parecidos.\n",
        "\n",
        "Debido a la similitud de los resultados podríamos tomar el modelo con Ridge para apuntar a evitar un sobreajuste."
      ],
      "metadata": {
        "id": "2InzhNxKOedT"
      }
    },
    {
      "cell_type": "markdown",
      "metadata": {
        "id": "CfqcmLmxLoe9"
      },
      "source": [
        "#Ejercicio 2\n",
        "Realiza la regresión polinomial de los siguientes datos:"
      ]
    },
    {
      "cell_type": "code",
      "source": [
        "df = pd.read_csv('https://raw.githubusercontent.com/marypazrf/bdd/main/kc_house_data.csv')\n",
        "df.sample(10)"
      ],
      "metadata": {
        "id": "57bn0j38qGrg",
        "colab": {
          "base_uri": "https://localhost:8080/",
          "height": 452
        },
        "outputId": "08b1edaf-eb6f-4404-c535-8dace998cf8c"
      },
      "execution_count": null,
      "outputs": [
        {
          "output_type": "execute_result",
          "data": {
            "text/plain": [
              "               id             date      price  bedrooms  bathrooms  \\\n",
              "5954   7852020250  20140602T000000   725995.0         4       2.50   \n",
              "8610   6392002020  20150324T000000   559000.0         3       1.75   \n",
              "7650    626049058  20150504T000000   275000.0         5       2.50   \n",
              "5683   2202500255  20150305T000000   335000.0         3       2.00   \n",
              "20773  7304301231  20140617T000000   345000.0         3       2.50   \n",
              "6959    723000114  20140505T000000  1395000.0         5       3.50   \n",
              "10784  4104900340  20150204T000000   710000.0         4       2.50   \n",
              "21529  2487200490  20140623T000000   670000.0         3       2.50   \n",
              "12319  2386000070  20141029T000000   795127.0         4       3.25   \n",
              "19948   293070090  20140711T000000   859990.0         4       2.75   \n",
              "\n",
              "       sqft_living  sqft_lot  floors  waterfront  view  ...  grade  \\\n",
              "5954          3190      7869     2.0           0     2  ...      9   \n",
              "8610          1700      6500     1.0           0     0  ...      8   \n",
              "7650          2570     17234     1.0           0     0  ...      7   \n",
              "5683          1210      9926     1.0           0     0  ...      7   \n",
              "20773         1680      2229     2.0           0     0  ...      7   \n",
              "6959          4010      8510     2.0           0     1  ...      9   \n",
              "10784         3220     18618     2.0           0     1  ...     10   \n",
              "21529         3310      5300     2.0           0     2  ...      8   \n",
              "12319         4360     91158     1.0           0     0  ...     10   \n",
              "19948         3520      5500     2.0           0     0  ...      9   \n",
              "\n",
              "       sqft_above  sqft_basement  yr_built  yr_renovated  zipcode      lat  \\\n",
              "5954         3190              0      2001             0    98065  47.5317   \n",
              "8610         1700              0      1967             0    98115  47.6837   \n",
              "7650         1300           1270      1959             0    98133  47.7753   \n",
              "5683         1210              0      1954          2015    98006  47.5731   \n",
              "20773        1680              0      2007             0    98155  47.7484   \n",
              "6959         2850           1160      1971             0    98105  47.6578   \n",
              "10784        3220              0      1991             0    98056  47.5326   \n",
              "21529        2440            870      2008             0    98136  47.5178   \n",
              "12319        3360           1000      1993             0    98053  47.6398   \n",
              "19948        3520              0      2014             0    98074  47.6181   \n",
              "\n",
              "          long  sqft_living15  sqft_lot15  \n",
              "5954  -121.866           2630        6739  \n",
              "8610  -122.284           1880        6000  \n",
              "7650  -122.355           1760        7969  \n",
              "5683  -122.135           1690        9737  \n",
              "20773 -122.322           1230        9300  \n",
              "6959  -122.286           2610        6128  \n",
              "10784 -122.181           2650       11896  \n",
              "21529 -122.389           2140        7500  \n",
              "12319 -121.985           3540       90940  \n",
              "19948 -122.056           3340        5500  \n",
              "\n",
              "[10 rows x 21 columns]"
            ],
            "text/html": [
              "\n",
              "  <div id=\"df-2999dfa8-95d1-4edc-bbaa-07d40f7ca5f0\">\n",
              "    <div class=\"colab-df-container\">\n",
              "      <div>\n",
              "<style scoped>\n",
              "    .dataframe tbody tr th:only-of-type {\n",
              "        vertical-align: middle;\n",
              "    }\n",
              "\n",
              "    .dataframe tbody tr th {\n",
              "        vertical-align: top;\n",
              "    }\n",
              "\n",
              "    .dataframe thead th {\n",
              "        text-align: right;\n",
              "    }\n",
              "</style>\n",
              "<table border=\"1\" class=\"dataframe\">\n",
              "  <thead>\n",
              "    <tr style=\"text-align: right;\">\n",
              "      <th></th>\n",
              "      <th>id</th>\n",
              "      <th>date</th>\n",
              "      <th>price</th>\n",
              "      <th>bedrooms</th>\n",
              "      <th>bathrooms</th>\n",
              "      <th>sqft_living</th>\n",
              "      <th>sqft_lot</th>\n",
              "      <th>floors</th>\n",
              "      <th>waterfront</th>\n",
              "      <th>view</th>\n",
              "      <th>...</th>\n",
              "      <th>grade</th>\n",
              "      <th>sqft_above</th>\n",
              "      <th>sqft_basement</th>\n",
              "      <th>yr_built</th>\n",
              "      <th>yr_renovated</th>\n",
              "      <th>zipcode</th>\n",
              "      <th>lat</th>\n",
              "      <th>long</th>\n",
              "      <th>sqft_living15</th>\n",
              "      <th>sqft_lot15</th>\n",
              "    </tr>\n",
              "  </thead>\n",
              "  <tbody>\n",
              "    <tr>\n",
              "      <th>5954</th>\n",
              "      <td>7852020250</td>\n",
              "      <td>20140602T000000</td>\n",
              "      <td>725995.0</td>\n",
              "      <td>4</td>\n",
              "      <td>2.50</td>\n",
              "      <td>3190</td>\n",
              "      <td>7869</td>\n",
              "      <td>2.0</td>\n",
              "      <td>0</td>\n",
              "      <td>2</td>\n",
              "      <td>...</td>\n",
              "      <td>9</td>\n",
              "      <td>3190</td>\n",
              "      <td>0</td>\n",
              "      <td>2001</td>\n",
              "      <td>0</td>\n",
              "      <td>98065</td>\n",
              "      <td>47.5317</td>\n",
              "      <td>-121.866</td>\n",
              "      <td>2630</td>\n",
              "      <td>6739</td>\n",
              "    </tr>\n",
              "    <tr>\n",
              "      <th>8610</th>\n",
              "      <td>6392002020</td>\n",
              "      <td>20150324T000000</td>\n",
              "      <td>559000.0</td>\n",
              "      <td>3</td>\n",
              "      <td>1.75</td>\n",
              "      <td>1700</td>\n",
              "      <td>6500</td>\n",
              "      <td>1.0</td>\n",
              "      <td>0</td>\n",
              "      <td>0</td>\n",
              "      <td>...</td>\n",
              "      <td>8</td>\n",
              "      <td>1700</td>\n",
              "      <td>0</td>\n",
              "      <td>1967</td>\n",
              "      <td>0</td>\n",
              "      <td>98115</td>\n",
              "      <td>47.6837</td>\n",
              "      <td>-122.284</td>\n",
              "      <td>1880</td>\n",
              "      <td>6000</td>\n",
              "    </tr>\n",
              "    <tr>\n",
              "      <th>7650</th>\n",
              "      <td>626049058</td>\n",
              "      <td>20150504T000000</td>\n",
              "      <td>275000.0</td>\n",
              "      <td>5</td>\n",
              "      <td>2.50</td>\n",
              "      <td>2570</td>\n",
              "      <td>17234</td>\n",
              "      <td>1.0</td>\n",
              "      <td>0</td>\n",
              "      <td>0</td>\n",
              "      <td>...</td>\n",
              "      <td>7</td>\n",
              "      <td>1300</td>\n",
              "      <td>1270</td>\n",
              "      <td>1959</td>\n",
              "      <td>0</td>\n",
              "      <td>98133</td>\n",
              "      <td>47.7753</td>\n",
              "      <td>-122.355</td>\n",
              "      <td>1760</td>\n",
              "      <td>7969</td>\n",
              "    </tr>\n",
              "    <tr>\n",
              "      <th>5683</th>\n",
              "      <td>2202500255</td>\n",
              "      <td>20150305T000000</td>\n",
              "      <td>335000.0</td>\n",
              "      <td>3</td>\n",
              "      <td>2.00</td>\n",
              "      <td>1210</td>\n",
              "      <td>9926</td>\n",
              "      <td>1.0</td>\n",
              "      <td>0</td>\n",
              "      <td>0</td>\n",
              "      <td>...</td>\n",
              "      <td>7</td>\n",
              "      <td>1210</td>\n",
              "      <td>0</td>\n",
              "      <td>1954</td>\n",
              "      <td>2015</td>\n",
              "      <td>98006</td>\n",
              "      <td>47.5731</td>\n",
              "      <td>-122.135</td>\n",
              "      <td>1690</td>\n",
              "      <td>9737</td>\n",
              "    </tr>\n",
              "    <tr>\n",
              "      <th>20773</th>\n",
              "      <td>7304301231</td>\n",
              "      <td>20140617T000000</td>\n",
              "      <td>345000.0</td>\n",
              "      <td>3</td>\n",
              "      <td>2.50</td>\n",
              "      <td>1680</td>\n",
              "      <td>2229</td>\n",
              "      <td>2.0</td>\n",
              "      <td>0</td>\n",
              "      <td>0</td>\n",
              "      <td>...</td>\n",
              "      <td>7</td>\n",
              "      <td>1680</td>\n",
              "      <td>0</td>\n",
              "      <td>2007</td>\n",
              "      <td>0</td>\n",
              "      <td>98155</td>\n",
              "      <td>47.7484</td>\n",
              "      <td>-122.322</td>\n",
              "      <td>1230</td>\n",
              "      <td>9300</td>\n",
              "    </tr>\n",
              "    <tr>\n",
              "      <th>6959</th>\n",
              "      <td>723000114</td>\n",
              "      <td>20140505T000000</td>\n",
              "      <td>1395000.0</td>\n",
              "      <td>5</td>\n",
              "      <td>3.50</td>\n",
              "      <td>4010</td>\n",
              "      <td>8510</td>\n",
              "      <td>2.0</td>\n",
              "      <td>0</td>\n",
              "      <td>1</td>\n",
              "      <td>...</td>\n",
              "      <td>9</td>\n",
              "      <td>2850</td>\n",
              "      <td>1160</td>\n",
              "      <td>1971</td>\n",
              "      <td>0</td>\n",
              "      <td>98105</td>\n",
              "      <td>47.6578</td>\n",
              "      <td>-122.286</td>\n",
              "      <td>2610</td>\n",
              "      <td>6128</td>\n",
              "    </tr>\n",
              "    <tr>\n",
              "      <th>10784</th>\n",
              "      <td>4104900340</td>\n",
              "      <td>20150204T000000</td>\n",
              "      <td>710000.0</td>\n",
              "      <td>4</td>\n",
              "      <td>2.50</td>\n",
              "      <td>3220</td>\n",
              "      <td>18618</td>\n",
              "      <td>2.0</td>\n",
              "      <td>0</td>\n",
              "      <td>1</td>\n",
              "      <td>...</td>\n",
              "      <td>10</td>\n",
              "      <td>3220</td>\n",
              "      <td>0</td>\n",
              "      <td>1991</td>\n",
              "      <td>0</td>\n",
              "      <td>98056</td>\n",
              "      <td>47.5326</td>\n",
              "      <td>-122.181</td>\n",
              "      <td>2650</td>\n",
              "      <td>11896</td>\n",
              "    </tr>\n",
              "    <tr>\n",
              "      <th>21529</th>\n",
              "      <td>2487200490</td>\n",
              "      <td>20140623T000000</td>\n",
              "      <td>670000.0</td>\n",
              "      <td>3</td>\n",
              "      <td>2.50</td>\n",
              "      <td>3310</td>\n",
              "      <td>5300</td>\n",
              "      <td>2.0</td>\n",
              "      <td>0</td>\n",
              "      <td>2</td>\n",
              "      <td>...</td>\n",
              "      <td>8</td>\n",
              "      <td>2440</td>\n",
              "      <td>870</td>\n",
              "      <td>2008</td>\n",
              "      <td>0</td>\n",
              "      <td>98136</td>\n",
              "      <td>47.5178</td>\n",
              "      <td>-122.389</td>\n",
              "      <td>2140</td>\n",
              "      <td>7500</td>\n",
              "    </tr>\n",
              "    <tr>\n",
              "      <th>12319</th>\n",
              "      <td>2386000070</td>\n",
              "      <td>20141029T000000</td>\n",
              "      <td>795127.0</td>\n",
              "      <td>4</td>\n",
              "      <td>3.25</td>\n",
              "      <td>4360</td>\n",
              "      <td>91158</td>\n",
              "      <td>1.0</td>\n",
              "      <td>0</td>\n",
              "      <td>0</td>\n",
              "      <td>...</td>\n",
              "      <td>10</td>\n",
              "      <td>3360</td>\n",
              "      <td>1000</td>\n",
              "      <td>1993</td>\n",
              "      <td>0</td>\n",
              "      <td>98053</td>\n",
              "      <td>47.6398</td>\n",
              "      <td>-121.985</td>\n",
              "      <td>3540</td>\n",
              "      <td>90940</td>\n",
              "    </tr>\n",
              "    <tr>\n",
              "      <th>19948</th>\n",
              "      <td>293070090</td>\n",
              "      <td>20140711T000000</td>\n",
              "      <td>859990.0</td>\n",
              "      <td>4</td>\n",
              "      <td>2.75</td>\n",
              "      <td>3520</td>\n",
              "      <td>5500</td>\n",
              "      <td>2.0</td>\n",
              "      <td>0</td>\n",
              "      <td>0</td>\n",
              "      <td>...</td>\n",
              "      <td>9</td>\n",
              "      <td>3520</td>\n",
              "      <td>0</td>\n",
              "      <td>2014</td>\n",
              "      <td>0</td>\n",
              "      <td>98074</td>\n",
              "      <td>47.6181</td>\n",
              "      <td>-122.056</td>\n",
              "      <td>3340</td>\n",
              "      <td>5500</td>\n",
              "    </tr>\n",
              "  </tbody>\n",
              "</table>\n",
              "<p>10 rows × 21 columns</p>\n",
              "</div>\n",
              "      <button class=\"colab-df-convert\" onclick=\"convertToInteractive('df-2999dfa8-95d1-4edc-bbaa-07d40f7ca5f0')\"\n",
              "              title=\"Convert this dataframe to an interactive table.\"\n",
              "              style=\"display:none;\">\n",
              "        \n",
              "  <svg xmlns=\"http://www.w3.org/2000/svg\" height=\"24px\"viewBox=\"0 0 24 24\"\n",
              "       width=\"24px\">\n",
              "    <path d=\"M0 0h24v24H0V0z\" fill=\"none\"/>\n",
              "    <path d=\"M18.56 5.44l.94 2.06.94-2.06 2.06-.94-2.06-.94-.94-2.06-.94 2.06-2.06.94zm-11 1L8.5 8.5l.94-2.06 2.06-.94-2.06-.94L8.5 2.5l-.94 2.06-2.06.94zm10 10l.94 2.06.94-2.06 2.06-.94-2.06-.94-.94-2.06-.94 2.06-2.06.94z\"/><path d=\"M17.41 7.96l-1.37-1.37c-.4-.4-.92-.59-1.43-.59-.52 0-1.04.2-1.43.59L10.3 9.45l-7.72 7.72c-.78.78-.78 2.05 0 2.83L4 21.41c.39.39.9.59 1.41.59.51 0 1.02-.2 1.41-.59l7.78-7.78 2.81-2.81c.8-.78.8-2.07 0-2.86zM5.41 20L4 18.59l7.72-7.72 1.47 1.35L5.41 20z\"/>\n",
              "  </svg>\n",
              "      </button>\n",
              "      \n",
              "  <style>\n",
              "    .colab-df-container {\n",
              "      display:flex;\n",
              "      flex-wrap:wrap;\n",
              "      gap: 12px;\n",
              "    }\n",
              "\n",
              "    .colab-df-convert {\n",
              "      background-color: #E8F0FE;\n",
              "      border: none;\n",
              "      border-radius: 50%;\n",
              "      cursor: pointer;\n",
              "      display: none;\n",
              "      fill: #1967D2;\n",
              "      height: 32px;\n",
              "      padding: 0 0 0 0;\n",
              "      width: 32px;\n",
              "    }\n",
              "\n",
              "    .colab-df-convert:hover {\n",
              "      background-color: #E2EBFA;\n",
              "      box-shadow: 0px 1px 2px rgba(60, 64, 67, 0.3), 0px 1px 3px 1px rgba(60, 64, 67, 0.15);\n",
              "      fill: #174EA6;\n",
              "    }\n",
              "\n",
              "    [theme=dark] .colab-df-convert {\n",
              "      background-color: #3B4455;\n",
              "      fill: #D2E3FC;\n",
              "    }\n",
              "\n",
              "    [theme=dark] .colab-df-convert:hover {\n",
              "      background-color: #434B5C;\n",
              "      box-shadow: 0px 1px 3px 1px rgba(0, 0, 0, 0.15);\n",
              "      filter: drop-shadow(0px 1px 2px rgba(0, 0, 0, 0.3));\n",
              "      fill: #FFFFFF;\n",
              "    }\n",
              "  </style>\n",
              "\n",
              "      <script>\n",
              "        const buttonEl =\n",
              "          document.querySelector('#df-2999dfa8-95d1-4edc-bbaa-07d40f7ca5f0 button.colab-df-convert');\n",
              "        buttonEl.style.display =\n",
              "          google.colab.kernel.accessAllowed ? 'block' : 'none';\n",
              "\n",
              "        async function convertToInteractive(key) {\n",
              "          const element = document.querySelector('#df-2999dfa8-95d1-4edc-bbaa-07d40f7ca5f0');\n",
              "          const dataTable =\n",
              "            await google.colab.kernel.invokeFunction('convertToInteractive',\n",
              "                                                     [key], {});\n",
              "          if (!dataTable) return;\n",
              "\n",
              "          const docLinkHtml = 'Like what you see? Visit the ' +\n",
              "            '<a target=\"_blank\" href=https://colab.research.google.com/notebooks/data_table.ipynb>data table notebook</a>'\n",
              "            + ' to learn more about interactive tables.';\n",
              "          element.innerHTML = '';\n",
              "          dataTable['output_type'] = 'display_data';\n",
              "          await google.colab.output.renderOutput(dataTable, element);\n",
              "          const docLink = document.createElement('div');\n",
              "          docLink.innerHTML = docLinkHtml;\n",
              "          element.appendChild(docLink);\n",
              "        }\n",
              "      </script>\n",
              "    </div>\n",
              "  </div>\n",
              "  "
            ]
          },
          "metadata": {},
          "execution_count": 46
        }
      ]
    },
    {
      "cell_type": "code",
      "source": [
        "df.info()"
      ],
      "metadata": {
        "id": "n0fs14KoqI3M",
        "colab": {
          "base_uri": "https://localhost:8080/"
        },
        "outputId": "00876e2d-4cd2-4d1a-f702-86c976694e91"
      },
      "execution_count": null,
      "outputs": [
        {
          "output_type": "stream",
          "name": "stdout",
          "text": [
            "<class 'pandas.core.frame.DataFrame'>\n",
            "RangeIndex: 21613 entries, 0 to 21612\n",
            "Data columns (total 21 columns):\n",
            " #   Column         Non-Null Count  Dtype  \n",
            "---  ------         --------------  -----  \n",
            " 0   id             21613 non-null  int64  \n",
            " 1   date           21613 non-null  object \n",
            " 2   price          21613 non-null  float64\n",
            " 3   bedrooms       21613 non-null  int64  \n",
            " 4   bathrooms      21613 non-null  float64\n",
            " 5   sqft_living    21613 non-null  int64  \n",
            " 6   sqft_lot       21613 non-null  int64  \n",
            " 7   floors         21613 non-null  float64\n",
            " 8   waterfront     21613 non-null  int64  \n",
            " 9   view           21613 non-null  int64  \n",
            " 10  condition      21613 non-null  int64  \n",
            " 11  grade          21613 non-null  int64  \n",
            " 12  sqft_above     21613 non-null  int64  \n",
            " 13  sqft_basement  21613 non-null  int64  \n",
            " 14  yr_built       21613 non-null  int64  \n",
            " 15  yr_renovated   21613 non-null  int64  \n",
            " 16  zipcode        21613 non-null  int64  \n",
            " 17  lat            21613 non-null  float64\n",
            " 18  long           21613 non-null  float64\n",
            " 19  sqft_living15  21613 non-null  int64  \n",
            " 20  sqft_lot15     21613 non-null  int64  \n",
            "dtypes: float64(5), int64(15), object(1)\n",
            "memory usage: 3.5+ MB\n"
          ]
        }
      ]
    },
    {
      "cell_type": "code",
      "source": [
        "df.describe()"
      ],
      "metadata": {
        "id": "1PNzDJZeqKhe",
        "colab": {
          "base_uri": "https://localhost:8080/",
          "height": 361
        },
        "outputId": "f95bf4f1-f9f2-4f96-8021-e889c28b1830"
      },
      "execution_count": null,
      "outputs": [
        {
          "output_type": "execute_result",
          "data": {
            "text/plain": [
              "                 id         price      bedrooms     bathrooms   sqft_living  \\\n",
              "count  2.161300e+04  2.161300e+04  21613.000000  21613.000000  21613.000000   \n",
              "mean   4.580302e+09  5.400881e+05      3.370842      2.114757   2079.899736   \n",
              "std    2.876566e+09  3.671272e+05      0.930062      0.770163    918.440897   \n",
              "min    1.000102e+06  7.500000e+04      0.000000      0.000000    290.000000   \n",
              "25%    2.123049e+09  3.219500e+05      3.000000      1.750000   1427.000000   \n",
              "50%    3.904930e+09  4.500000e+05      3.000000      2.250000   1910.000000   \n",
              "75%    7.308900e+09  6.450000e+05      4.000000      2.500000   2550.000000   \n",
              "max    9.900000e+09  7.700000e+06     33.000000      8.000000  13540.000000   \n",
              "\n",
              "           sqft_lot        floors    waterfront          view     condition  \\\n",
              "count  2.161300e+04  21613.000000  21613.000000  21613.000000  21613.000000   \n",
              "mean   1.510697e+04      1.494309      0.007542      0.234303      3.409430   \n",
              "std    4.142051e+04      0.539989      0.086517      0.766318      0.650743   \n",
              "min    5.200000e+02      1.000000      0.000000      0.000000      1.000000   \n",
              "25%    5.040000e+03      1.000000      0.000000      0.000000      3.000000   \n",
              "50%    7.618000e+03      1.500000      0.000000      0.000000      3.000000   \n",
              "75%    1.068800e+04      2.000000      0.000000      0.000000      4.000000   \n",
              "max    1.651359e+06      3.500000      1.000000      4.000000      5.000000   \n",
              "\n",
              "              grade    sqft_above  sqft_basement      yr_built  yr_renovated  \\\n",
              "count  21613.000000  21613.000000   21613.000000  21613.000000  21613.000000   \n",
              "mean       7.656873   1788.390691     291.509045   1971.005136     84.402258   \n",
              "std        1.175459    828.090978     442.575043     29.373411    401.679240   \n",
              "min        1.000000    290.000000       0.000000   1900.000000      0.000000   \n",
              "25%        7.000000   1190.000000       0.000000   1951.000000      0.000000   \n",
              "50%        7.000000   1560.000000       0.000000   1975.000000      0.000000   \n",
              "75%        8.000000   2210.000000     560.000000   1997.000000      0.000000   \n",
              "max       13.000000   9410.000000    4820.000000   2015.000000   2015.000000   \n",
              "\n",
              "            zipcode           lat          long  sqft_living15     sqft_lot15  \n",
              "count  21613.000000  21613.000000  21613.000000   21613.000000   21613.000000  \n",
              "mean   98077.939805     47.560053   -122.213896    1986.552492   12768.455652  \n",
              "std       53.505026      0.138564      0.140828     685.391304   27304.179631  \n",
              "min    98001.000000     47.155900   -122.519000     399.000000     651.000000  \n",
              "25%    98033.000000     47.471000   -122.328000    1490.000000    5100.000000  \n",
              "50%    98065.000000     47.571800   -122.230000    1840.000000    7620.000000  \n",
              "75%    98118.000000     47.678000   -122.125000    2360.000000   10083.000000  \n",
              "max    98199.000000     47.777600   -121.315000    6210.000000  871200.000000  "
            ],
            "text/html": [
              "\n",
              "  <div id=\"df-1496432c-3468-4dda-964b-546af859cd2b\">\n",
              "    <div class=\"colab-df-container\">\n",
              "      <div>\n",
              "<style scoped>\n",
              "    .dataframe tbody tr th:only-of-type {\n",
              "        vertical-align: middle;\n",
              "    }\n",
              "\n",
              "    .dataframe tbody tr th {\n",
              "        vertical-align: top;\n",
              "    }\n",
              "\n",
              "    .dataframe thead th {\n",
              "        text-align: right;\n",
              "    }\n",
              "</style>\n",
              "<table border=\"1\" class=\"dataframe\">\n",
              "  <thead>\n",
              "    <tr style=\"text-align: right;\">\n",
              "      <th></th>\n",
              "      <th>id</th>\n",
              "      <th>price</th>\n",
              "      <th>bedrooms</th>\n",
              "      <th>bathrooms</th>\n",
              "      <th>sqft_living</th>\n",
              "      <th>sqft_lot</th>\n",
              "      <th>floors</th>\n",
              "      <th>waterfront</th>\n",
              "      <th>view</th>\n",
              "      <th>condition</th>\n",
              "      <th>grade</th>\n",
              "      <th>sqft_above</th>\n",
              "      <th>sqft_basement</th>\n",
              "      <th>yr_built</th>\n",
              "      <th>yr_renovated</th>\n",
              "      <th>zipcode</th>\n",
              "      <th>lat</th>\n",
              "      <th>long</th>\n",
              "      <th>sqft_living15</th>\n",
              "      <th>sqft_lot15</th>\n",
              "    </tr>\n",
              "  </thead>\n",
              "  <tbody>\n",
              "    <tr>\n",
              "      <th>count</th>\n",
              "      <td>2.161300e+04</td>\n",
              "      <td>2.161300e+04</td>\n",
              "      <td>21613.000000</td>\n",
              "      <td>21613.000000</td>\n",
              "      <td>21613.000000</td>\n",
              "      <td>2.161300e+04</td>\n",
              "      <td>21613.000000</td>\n",
              "      <td>21613.000000</td>\n",
              "      <td>21613.000000</td>\n",
              "      <td>21613.000000</td>\n",
              "      <td>21613.000000</td>\n",
              "      <td>21613.000000</td>\n",
              "      <td>21613.000000</td>\n",
              "      <td>21613.000000</td>\n",
              "      <td>21613.000000</td>\n",
              "      <td>21613.000000</td>\n",
              "      <td>21613.000000</td>\n",
              "      <td>21613.000000</td>\n",
              "      <td>21613.000000</td>\n",
              "      <td>21613.000000</td>\n",
              "    </tr>\n",
              "    <tr>\n",
              "      <th>mean</th>\n",
              "      <td>4.580302e+09</td>\n",
              "      <td>5.400881e+05</td>\n",
              "      <td>3.370842</td>\n",
              "      <td>2.114757</td>\n",
              "      <td>2079.899736</td>\n",
              "      <td>1.510697e+04</td>\n",
              "      <td>1.494309</td>\n",
              "      <td>0.007542</td>\n",
              "      <td>0.234303</td>\n",
              "      <td>3.409430</td>\n",
              "      <td>7.656873</td>\n",
              "      <td>1788.390691</td>\n",
              "      <td>291.509045</td>\n",
              "      <td>1971.005136</td>\n",
              "      <td>84.402258</td>\n",
              "      <td>98077.939805</td>\n",
              "      <td>47.560053</td>\n",
              "      <td>-122.213896</td>\n",
              "      <td>1986.552492</td>\n",
              "      <td>12768.455652</td>\n",
              "    </tr>\n",
              "    <tr>\n",
              "      <th>std</th>\n",
              "      <td>2.876566e+09</td>\n",
              "      <td>3.671272e+05</td>\n",
              "      <td>0.930062</td>\n",
              "      <td>0.770163</td>\n",
              "      <td>918.440897</td>\n",
              "      <td>4.142051e+04</td>\n",
              "      <td>0.539989</td>\n",
              "      <td>0.086517</td>\n",
              "      <td>0.766318</td>\n",
              "      <td>0.650743</td>\n",
              "      <td>1.175459</td>\n",
              "      <td>828.090978</td>\n",
              "      <td>442.575043</td>\n",
              "      <td>29.373411</td>\n",
              "      <td>401.679240</td>\n",
              "      <td>53.505026</td>\n",
              "      <td>0.138564</td>\n",
              "      <td>0.140828</td>\n",
              "      <td>685.391304</td>\n",
              "      <td>27304.179631</td>\n",
              "    </tr>\n",
              "    <tr>\n",
              "      <th>min</th>\n",
              "      <td>1.000102e+06</td>\n",
              "      <td>7.500000e+04</td>\n",
              "      <td>0.000000</td>\n",
              "      <td>0.000000</td>\n",
              "      <td>290.000000</td>\n",
              "      <td>5.200000e+02</td>\n",
              "      <td>1.000000</td>\n",
              "      <td>0.000000</td>\n",
              "      <td>0.000000</td>\n",
              "      <td>1.000000</td>\n",
              "      <td>1.000000</td>\n",
              "      <td>290.000000</td>\n",
              "      <td>0.000000</td>\n",
              "      <td>1900.000000</td>\n",
              "      <td>0.000000</td>\n",
              "      <td>98001.000000</td>\n",
              "      <td>47.155900</td>\n",
              "      <td>-122.519000</td>\n",
              "      <td>399.000000</td>\n",
              "      <td>651.000000</td>\n",
              "    </tr>\n",
              "    <tr>\n",
              "      <th>25%</th>\n",
              "      <td>2.123049e+09</td>\n",
              "      <td>3.219500e+05</td>\n",
              "      <td>3.000000</td>\n",
              "      <td>1.750000</td>\n",
              "      <td>1427.000000</td>\n",
              "      <td>5.040000e+03</td>\n",
              "      <td>1.000000</td>\n",
              "      <td>0.000000</td>\n",
              "      <td>0.000000</td>\n",
              "      <td>3.000000</td>\n",
              "      <td>7.000000</td>\n",
              "      <td>1190.000000</td>\n",
              "      <td>0.000000</td>\n",
              "      <td>1951.000000</td>\n",
              "      <td>0.000000</td>\n",
              "      <td>98033.000000</td>\n",
              "      <td>47.471000</td>\n",
              "      <td>-122.328000</td>\n",
              "      <td>1490.000000</td>\n",
              "      <td>5100.000000</td>\n",
              "    </tr>\n",
              "    <tr>\n",
              "      <th>50%</th>\n",
              "      <td>3.904930e+09</td>\n",
              "      <td>4.500000e+05</td>\n",
              "      <td>3.000000</td>\n",
              "      <td>2.250000</td>\n",
              "      <td>1910.000000</td>\n",
              "      <td>7.618000e+03</td>\n",
              "      <td>1.500000</td>\n",
              "      <td>0.000000</td>\n",
              "      <td>0.000000</td>\n",
              "      <td>3.000000</td>\n",
              "      <td>7.000000</td>\n",
              "      <td>1560.000000</td>\n",
              "      <td>0.000000</td>\n",
              "      <td>1975.000000</td>\n",
              "      <td>0.000000</td>\n",
              "      <td>98065.000000</td>\n",
              "      <td>47.571800</td>\n",
              "      <td>-122.230000</td>\n",
              "      <td>1840.000000</td>\n",
              "      <td>7620.000000</td>\n",
              "    </tr>\n",
              "    <tr>\n",
              "      <th>75%</th>\n",
              "      <td>7.308900e+09</td>\n",
              "      <td>6.450000e+05</td>\n",
              "      <td>4.000000</td>\n",
              "      <td>2.500000</td>\n",
              "      <td>2550.000000</td>\n",
              "      <td>1.068800e+04</td>\n",
              "      <td>2.000000</td>\n",
              "      <td>0.000000</td>\n",
              "      <td>0.000000</td>\n",
              "      <td>4.000000</td>\n",
              "      <td>8.000000</td>\n",
              "      <td>2210.000000</td>\n",
              "      <td>560.000000</td>\n",
              "      <td>1997.000000</td>\n",
              "      <td>0.000000</td>\n",
              "      <td>98118.000000</td>\n",
              "      <td>47.678000</td>\n",
              "      <td>-122.125000</td>\n",
              "      <td>2360.000000</td>\n",
              "      <td>10083.000000</td>\n",
              "    </tr>\n",
              "    <tr>\n",
              "      <th>max</th>\n",
              "      <td>9.900000e+09</td>\n",
              "      <td>7.700000e+06</td>\n",
              "      <td>33.000000</td>\n",
              "      <td>8.000000</td>\n",
              "      <td>13540.000000</td>\n",
              "      <td>1.651359e+06</td>\n",
              "      <td>3.500000</td>\n",
              "      <td>1.000000</td>\n",
              "      <td>4.000000</td>\n",
              "      <td>5.000000</td>\n",
              "      <td>13.000000</td>\n",
              "      <td>9410.000000</td>\n",
              "      <td>4820.000000</td>\n",
              "      <td>2015.000000</td>\n",
              "      <td>2015.000000</td>\n",
              "      <td>98199.000000</td>\n",
              "      <td>47.777600</td>\n",
              "      <td>-121.315000</td>\n",
              "      <td>6210.000000</td>\n",
              "      <td>871200.000000</td>\n",
              "    </tr>\n",
              "  </tbody>\n",
              "</table>\n",
              "</div>\n",
              "      <button class=\"colab-df-convert\" onclick=\"convertToInteractive('df-1496432c-3468-4dda-964b-546af859cd2b')\"\n",
              "              title=\"Convert this dataframe to an interactive table.\"\n",
              "              style=\"display:none;\">\n",
              "        \n",
              "  <svg xmlns=\"http://www.w3.org/2000/svg\" height=\"24px\"viewBox=\"0 0 24 24\"\n",
              "       width=\"24px\">\n",
              "    <path d=\"M0 0h24v24H0V0z\" fill=\"none\"/>\n",
              "    <path d=\"M18.56 5.44l.94 2.06.94-2.06 2.06-.94-2.06-.94-.94-2.06-.94 2.06-2.06.94zm-11 1L8.5 8.5l.94-2.06 2.06-.94-2.06-.94L8.5 2.5l-.94 2.06-2.06.94zm10 10l.94 2.06.94-2.06 2.06-.94-2.06-.94-.94-2.06-.94 2.06-2.06.94z\"/><path d=\"M17.41 7.96l-1.37-1.37c-.4-.4-.92-.59-1.43-.59-.52 0-1.04.2-1.43.59L10.3 9.45l-7.72 7.72c-.78.78-.78 2.05 0 2.83L4 21.41c.39.39.9.59 1.41.59.51 0 1.02-.2 1.41-.59l7.78-7.78 2.81-2.81c.8-.78.8-2.07 0-2.86zM5.41 20L4 18.59l7.72-7.72 1.47 1.35L5.41 20z\"/>\n",
              "  </svg>\n",
              "      </button>\n",
              "      \n",
              "  <style>\n",
              "    .colab-df-container {\n",
              "      display:flex;\n",
              "      flex-wrap:wrap;\n",
              "      gap: 12px;\n",
              "    }\n",
              "\n",
              "    .colab-df-convert {\n",
              "      background-color: #E8F0FE;\n",
              "      border: none;\n",
              "      border-radius: 50%;\n",
              "      cursor: pointer;\n",
              "      display: none;\n",
              "      fill: #1967D2;\n",
              "      height: 32px;\n",
              "      padding: 0 0 0 0;\n",
              "      width: 32px;\n",
              "    }\n",
              "\n",
              "    .colab-df-convert:hover {\n",
              "      background-color: #E2EBFA;\n",
              "      box-shadow: 0px 1px 2px rgba(60, 64, 67, 0.3), 0px 1px 3px 1px rgba(60, 64, 67, 0.15);\n",
              "      fill: #174EA6;\n",
              "    }\n",
              "\n",
              "    [theme=dark] .colab-df-convert {\n",
              "      background-color: #3B4455;\n",
              "      fill: #D2E3FC;\n",
              "    }\n",
              "\n",
              "    [theme=dark] .colab-df-convert:hover {\n",
              "      background-color: #434B5C;\n",
              "      box-shadow: 0px 1px 3px 1px rgba(0, 0, 0, 0.15);\n",
              "      filter: drop-shadow(0px 1px 2px rgba(0, 0, 0, 0.3));\n",
              "      fill: #FFFFFF;\n",
              "    }\n",
              "  </style>\n",
              "\n",
              "      <script>\n",
              "        const buttonEl =\n",
              "          document.querySelector('#df-1496432c-3468-4dda-964b-546af859cd2b button.colab-df-convert');\n",
              "        buttonEl.style.display =\n",
              "          google.colab.kernel.accessAllowed ? 'block' : 'none';\n",
              "\n",
              "        async function convertToInteractive(key) {\n",
              "          const element = document.querySelector('#df-1496432c-3468-4dda-964b-546af859cd2b');\n",
              "          const dataTable =\n",
              "            await google.colab.kernel.invokeFunction('convertToInteractive',\n",
              "                                                     [key], {});\n",
              "          if (!dataTable) return;\n",
              "\n",
              "          const docLinkHtml = 'Like what you see? Visit the ' +\n",
              "            '<a target=\"_blank\" href=https://colab.research.google.com/notebooks/data_table.ipynb>data table notebook</a>'\n",
              "            + ' to learn more about interactive tables.';\n",
              "          element.innerHTML = '';\n",
              "          dataTable['output_type'] = 'display_data';\n",
              "          await google.colab.output.renderOutput(dataTable, element);\n",
              "          const docLink = document.createElement('div');\n",
              "          docLink.innerHTML = docLinkHtml;\n",
              "          element.appendChild(docLink);\n",
              "        }\n",
              "      </script>\n",
              "    </div>\n",
              "  </div>\n",
              "  "
            ]
          },
          "metadata": {},
          "execution_count": 48
        }
      ]
    },
    {
      "cell_type": "code",
      "source": [
        "df.drop('id', axis = 1, inplace = True)\n",
        "df.drop('date', axis = 1, inplace = True)\n",
        "df.drop('zipcode', axis = 1, inplace = True)\n",
        "df.drop('lat', axis = 1, inplace = True)\n",
        "df.drop('long', axis = 1, inplace = True)\n"
      ],
      "metadata": {
        "id": "0KUD8T08qMmq"
      },
      "execution_count": null,
      "outputs": []
    },
    {
      "cell_type": "code",
      "source": [
        "plt.figure(figsize=(12,8)) \n",
        "sns.heatmap(df.corr(), annot=True, cmap='Dark2_r', linewidths = 2)\n",
        "plt.show()"
      ],
      "metadata": {
        "id": "r-jk_nHmqKpp",
        "colab": {
          "base_uri": "https://localhost:8080/",
          "height": 551
        },
        "outputId": "b639494d-7ace-41c6-dbeb-c3b1098cfb0c"
      },
      "execution_count": null,
      "outputs": [
        {
          "output_type": "display_data",
          "data": {
            "text/plain": [
              "<Figure size 864x576 with 2 Axes>"
            ],
            "image/png": "[encoded data removed]"
          },
          "metadata": {
            "needs_background": "light"
          }
        }
      ]
    },
    {
      "cell_type": "code",
      "source": [
        "columns = df.columns.drop('price')\n",
        "\n",
        "features = columns\n",
        "label = ['price']\n",
        "\n",
        "X = df[features]\n",
        "y = df[label]"
      ],
      "metadata": {
        "id": "p4zqCnFwq7Oc"
      },
      "execution_count": null,
      "outputs": []
    },
    {
      "cell_type": "code",
      "source": [
        "from sklearn.model_selection import train_test_split\n",
        "X_train, X_test, y_train, y_test = train_test_split(X, y, test_size = 0.1, random_state = 101)\n",
        "\n",
        "print(f'Numero total de registros en la bdd: {len(X)}')\n",
        "print(\"*****\"*10)\n",
        "print(f'Numero total de registros en el training set: {len(X_train)}')\n",
        "print(f'Tamaño de X_train: {X_train.shape}')\n",
        "print(\"*****\"*10)\n",
        "print(f'Mumero total de registros en el test dataset: {len(X_test)}')\n",
        "print(f'Tamaño del X_test: {X_test.shape}')"
      ],
      "metadata": {
        "id": "p91PEVPLq93-",
        "colab": {
          "base_uri": "https://localhost:8080/"
        },
        "outputId": "01450d4c-9bbb-4e30-9a71-3d3288216f8f"
      },
      "execution_count": null,
      "outputs": [
        {
          "output_type": "stream",
          "name": "stdout",
          "text": [
            "Numero total de registros en la bdd: 21613\n",
            "**************************************************\n",
            "Numero total de registros en el training set: 19451\n",
            "Tamaño de X_train: (19451, 15)\n",
            "**************************************************\n",
            "Mumero total de registros en el test dataset: 2162\n",
            "Tamaño del X_test: (2162, 15)\n"
          ]
        }
      ]
    },
    {
      "cell_type": "code",
      "source": [
        "X_train, X_test, y_train, y_test = train_test_split(X, y, test_size = 0.1, random_state = 101)"
      ],
      "metadata": {
        "id": "0faHrN8-rv9V"
      },
      "execution_count": null,
      "outputs": []
    },
    {
      "cell_type": "code",
      "source": [
        "MAE = pd.DataFrame()\n",
        "RMSE = pd.DataFrame()\n",
        "R2 = pd.DataFrame()"
      ],
      "metadata": {
        "id": "frYySgXZJ9Pt"
      },
      "execution_count": null,
      "outputs": []
    },
    {
      "cell_type": "markdown",
      "source": [
        "## Lineal"
      ],
      "metadata": {
        "id": "QrMzPisQ9S89"
      }
    },
    {
      "cell_type": "code",
      "source": [
        "linear_reg = LinearRegression(fit_intercept=True)\n",
        "linear_reg.fit(X_train, y_train)\n",
        "linear_reg.coef_, linear_reg.intercept_"
      ],
      "metadata": {
        "colab": {
          "base_uri": "https://localhost:8080/"
        },
        "id": "_z2f6mKR9ZIg",
        "outputId": "0f33e37b-8394-466a-8248-a1bf56cc2e88"
      },
      "execution_count": null,
      "outputs": [
        {
          "output_type": "execute_result",
          "data": {
            "text/plain": [
              "(array([[-3.82008048e+04,  4.14661380e+04,  1.07992584e+02,\n",
              "          1.71356997e-02,  3.16916913e+04,  5.52691023e+05,\n",
              "          4.12493228e+04,  2.12221443e+04,  1.19493216e+05,\n",
              "          4.77750271e+01,  6.02175565e+01, -3.55090216e+03,\n",
              "          1.32602215e+01,  2.90059284e+01, -5.48132603e-01]]),\n",
              " array([6151359.2627409]))"
            ]
          },
          "metadata": {},
          "execution_count": 55
        }
      ]
    },
    {
      "cell_type": "markdown",
      "source": [
        "La ecuación estimada por el modelo es la siguiente:\n",
        "\n",
        "$\\hat{y} = -38200.80X_1 + 41466.13X_2 + 107.99X_3 + 0.017X_4 + 31691.69X_5 + 552691.02X_6 + 41249.32X_7 + 21222.14X_8 + 119493.21X_9 + 47.77X_{10} + 60.21X_{11} - 3550.90X_{12} + 13.26X_{13} + 29.005X_{14} - 0.548X_{15} + 6151359.26$"
      ],
      "metadata": {
        "id": "aR2VueFY9eT5"
      }
    },
    {
      "cell_type": "code",
      "source": [
        "y_fit = linear_reg.predict(X_train.sort_values('sqft_above'))\n",
        "\n",
        "plt.scatter(X_train['sqft_above'], y_train)\n",
        "plt.plot(X_train['sqft_above'].sort_values(), y_fit, \"r-\", linewidth=2, label=\"Predictions\")\n",
        "plt.xlabel(\"$X_1$\", fontsize=18)\n",
        "plt.ylabel(\"$y$\", rotation=0, fontsize=18)\n",
        "plt.legend(loc=\"upper left\", fontsize=14);"
      ],
      "metadata": {
        "colab": {
          "base_uri": "https://localhost:8080/",
          "height": 300
        },
        "id": "LPVE8m5W_RUx",
        "outputId": "dfbe8b2f-c97e-4d4e-c367-4a1d564d4151"
      },
      "execution_count": null,
      "outputs": [
        {
          "output_type": "display_data",
          "data": {
            "text/plain": [
              "<Figure size 432x288 with 1 Axes>"
            ],
            "image/png": "[encoded data removed]"
          },
          "metadata": {
            "needs_background": "light"
          }
        }
      ]
    },
    {
      "cell_type": "code",
      "source": [
        "y_pred = linear_reg.predict(X_test)\n",
        "\n",
        "print('Error medio Absoluto (MAE):', metrics.mean_absolute_error(y_test, y_pred))\n",
        "print('Root Mean Squared Error:', np.sqrt(metrics.mean_squared_error(y_test, y_pred)))\n",
        "print('r2_score',r2_score(y_test, y_pred))\n",
        "\n",
        "MAE.insert(0, \"Lineal\", [metrics.mean_absolute_error(y_test, y_pred)], True)\n",
        "RMSE.insert(0, \"Lineal\", [np.sqrt(metrics.mean_squared_error(y_test, y_pred))], True)\n",
        "R2.insert(0, \"Lineal\", [r2_score(y_test, y_pred)], True)"
      ],
      "metadata": {
        "colab": {
          "base_uri": "https://localhost:8080/"
        },
        "id": "5GIIBXLb_aIn",
        "outputId": "b7d0f10b-42a0-4a41-c9e7-25a6de53d323"
      },
      "execution_count": null,
      "outputs": [
        {
          "output_type": "stream",
          "name": "stdout",
          "text": [
            "Error medio Absoluto (MAE): 137480.1388273178\n",
            "Root Mean Squared Error: 232133.3676240749\n",
            "r2_score 0.6579723205007814\n"
          ]
        }
      ]
    },
    {
      "cell_type": "markdown",
      "source": [
        "## Polinomial"
      ],
      "metadata": {
        "id": "kUVhXtR__auO"
      }
    },
    {
      "cell_type": "code",
      "source": [
        "poly_features = PolynomialFeatures(degree=2, include_bias=False)\n",
        "X_poly_train = poly_features.fit_transform(X_train)\n",
        "X_poly_test = poly_features.fit_transform(X_test)"
      ],
      "metadata": {
        "id": "m-G2cJTa_n-F"
      },
      "execution_count": null,
      "outputs": []
    },
    {
      "cell_type": "code",
      "source": [
        "lin_reg = LinearRegression(fit_intercept=True)\n",
        "lin_reg.fit(X_poly_train, y_train)\n",
        "lin_reg.coef_, lin_reg.intercept_"
      ],
      "metadata": {
        "colab": {
          "base_uri": "https://localhost:8080/"
        },
        "id": "q1c_01FT_sxK",
        "outputId": "3cc88dd0-6fef-4f5d-eb9f-69d83624dd5f"
      },
      "execution_count": null,
      "outputs": [
        {
          "output_type": "execute_result",
          "data": {
            "text/plain": [
              "(array([[ 9.33912834e+05, -1.09330730e+06, -4.56449932e+02,\n",
              "         -2.78686288e+01, -2.07407238e+06, -3.95431870e+06,\n",
              "         -2.88638026e+05,  5.58697570e+05,  1.09864510e+06,\n",
              "         -2.19758415e+02, -3.82034272e+02, -8.59630908e+04,\n",
              "         -2.95351595e+03,  3.99965710e+03, -3.40106316e+01,\n",
              "          9.57541696e+02,  7.49958190e+03, -1.37969466e+01,\n",
              "         -1.84926695e-02,  8.57699569e+03, -1.14965893e+04,\n",
              "         -3.06588900e+02, -5.24628836e+03, -5.36788065e+03,\n",
              "         -1.20757669e+00, -1.46068182e+01, -4.67099451e+02,\n",
              "         -9.13191519e+00,  1.72800642e+01,  2.15500198e-01,\n",
              "         -9.63429892e+03,  1.53879172e+01, -1.35842369e-01,\n",
              "         -2.59067293e+04,  4.33707238e+04,  3.82942459e+03,\n",
              "         -1.07592927e+03,  2.22971689e+04,  1.44292325e+01,\n",
              "          1.33928361e+00,  5.03401980e+02, -1.70798805e+01,\n",
              "         -1.72895923e+01, -5.56785248e-02,  1.56185890e+00,\n",
              "         -4.34972758e+00,  4.83299456e+00,  1.60303193e+02,\n",
              "         -1.42711737e+01,  1.31138593e+01,  2.07283397e+01,\n",
              "          2.61335089e+00, -4.41381412e+00, -2.20765903e+00,\n",
              "          6.36282684e-02,  3.53629072e+00,  1.88176819e+01,\n",
              "          3.06637958e-07,  4.40839907e-01, -9.84216136e-02,\n",
              "         -9.75869659e-02,  9.17233241e-02,  1.51960354e-01,\n",
              "          4.34904161e+00,  4.34926327e+00,  1.37650380e-02,\n",
              "         -1.48516006e-04,  1.76864211e-04,  1.05303479e-06,\n",
              "          2.16116740e+04, -1.31320713e+05,  1.44412938e+04,\n",
              "          2.02989005e+04, -4.27844150e+03, -2.82201875e+00,\n",
              "          7.66330754e+00,  1.03664758e+03,  2.59349503e+00,\n",
              "         -3.20401882e+01, -5.28612817e-01, -3.95431899e+06,\n",
              "         -1.60488762e+04,  9.19611219e+03, -1.61637325e+05,\n",
              "          1.83103328e+02, -2.28001023e+01,  4.42833048e+03,\n",
              "         -2.99177258e+01,  1.70604193e+02, -8.13533327e-01,\n",
              "          7.98448565e+03,  7.33999963e+03,  1.79556171e+04,\n",
              "         -1.24963418e+01, -1.77332663e+00,  7.20704241e+01,\n",
              "         -9.96831512e+00,  4.63359903e+00, -5.24194412e-02,\n",
              "         -5.41914699e+02, -6.03821219e+03,  1.16309467e+00,\n",
              "          1.19544378e+01, -3.07074418e+02, -2.01997367e+01,\n",
              "          4.63198881e+01, -2.76877580e-01,  7.36624125e+03,\n",
              "          9.60665725e+00,  1.11459299e+01, -5.71989956e+02,\n",
              "         -1.01345126e+01, -2.27554341e+01, -5.08577049e-01,\n",
              "         -4.16987537e+00, -1.28789962e+00,  2.44718109e+00,\n",
              "         -2.54496408e-02, -3.53836487e+00, -1.88174913e+01,\n",
              "          2.79020491e+00,  2.54821210e+00, -1.88342368e-02,\n",
              "         -3.53312599e+00, -1.88181978e+01,  2.30599022e+01,\n",
              "          4.06969503e-01, -2.04695891e+00,  1.88936366e-02,\n",
              "          1.11629336e+00,  4.71190049e-02,  2.55405757e-04,\n",
              "          3.31517292e-02,  1.11144269e-04,  2.35741027e-06]]),\n",
              " array([80227028.3104757]))"
            ]
          },
          "metadata": {},
          "execution_count": 59
        }
      ]
    },
    {
      "cell_type": "markdown",
      "source": [
        "La ecuación estimada por el modelo es la siguiente:\n",
        "\n",
        "$\\hat{y} =  933912.83X_1 - 1093307.30X_2 + - 456.44X_3 - 27.96X_4 - 2074072.38X_5 - 3954318.70X_6 - 288638.02X_7 + 558697.57X_8 + 1098645.10X_9 + ...\n",
        "+ 80227028.31$"
      ],
      "metadata": {
        "id": "7cpwvrer_tZH"
      }
    },
    {
      "cell_type": "code",
      "source": [
        "X_new_poly = poly_features.transform(X_train.sort_values('sqft_above'))\n",
        "y_new = lin_reg.predict(X_new_poly)\n",
        "\n",
        "plt.scatter(X_train['sqft_above'], y_train)\n",
        "plt.plot(X_train['sqft_above'].sort_values(), y_new, \"r-\", linewidth=2, label=\"Predictions\")\n",
        "plt.xlabel(\"$X_1$\", fontsize=18)\n",
        "plt.ylabel(\"$y$\", rotation=0, fontsize=18)\n",
        "plt.legend(loc=\"upper left\", fontsize=14);"
      ],
      "metadata": {
        "colab": {
          "base_uri": "https://localhost:8080/",
          "height": 300
        },
        "id": "YGaEBRAd_1ng",
        "outputId": "e329036e-3000-4131-b280-8abe4a3869c9"
      },
      "execution_count": null,
      "outputs": [
        {
          "output_type": "display_data",
          "data": {
            "text/plain": [
              "<Figure size 432x288 with 1 Axes>"
            ],
            "image/png": "[encoded data removed]"
          },
          "metadata": {
            "needs_background": "light"
          }
        }
      ]
    },
    {
      "cell_type": "code",
      "source": [
        "y_pred = lin_reg.predict(X_poly_test)\n",
        "\n",
        "print('Error medio Absoluto (MAE):', metrics.mean_absolute_error(y_test, y_pred))\n",
        "print('Root Mean Squared Error:', np.sqrt(metrics.mean_squared_error(y_test, y_pred)))\n",
        "print('r2_score',r2_score(y_test, y_pred))\n",
        "\n",
        "MAE.insert(1, \"Polinomial\", [metrics.mean_absolute_error(y_test, y_pred)], True)\n",
        "RMSE.insert(1, \"Polinomial\", [np.sqrt(metrics.mean_squared_error(y_test, y_pred))], True)\n",
        "R2.insert(1, \"Polinomial\", [r2_score(y_test, y_pred)], True)"
      ],
      "metadata": {
        "colab": {
          "base_uri": "https://localhost:8080/"
        },
        "id": "m9Trcxef_RsV",
        "outputId": "5f8122cb-43fe-45c4-97d4-58d97ca9a405"
      },
      "execution_count": null,
      "outputs": [
        {
          "output_type": "stream",
          "name": "stdout",
          "text": [
            "Error medio Absoluto (MAE): 121314.06948173394\n",
            "Root Mean Squared Error: 186261.28575138954\n",
            "r2_score 0.7797929072570198\n"
          ]
        }
      ]
    },
    {
      "cell_type": "markdown",
      "source": [
        "## Ridge"
      ],
      "metadata": {
        "id": "vu3JPR4ZAI8u"
      }
    },
    {
      "cell_type": "code",
      "source": [
        "linear_reg_ridge = Ridge(fit_intercept=True)\n",
        "linear_reg_ridge.fit(X_poly_train, y_train)\n",
        "linear_reg_ridge.coef_, linear_reg_ridge.intercept_"
      ],
      "metadata": {
        "colab": {
          "base_uri": "https://localhost:8080/"
        },
        "id": "agpKLNhEAJdw",
        "outputId": "c579b39a-4ae8-4355-d912-7d47fe3f8e14"
      },
      "execution_count": null,
      "outputs": [
        {
          "output_type": "execute_result",
          "data": {
            "text/plain": [
              "(array([[ 4.60229790e+05, -2.83585413e+05, -4.55464410e+02,\n",
              "         -2.82448011e+01, -3.80402269e+05, -1.05185321e+05,\n",
              "         -3.14232811e+05,  2.78096459e+05,  4.58289840e+05,\n",
              "         -4.76026296e+02, -1.00096362e+02, -9.44134661e+04,\n",
              "         -3.20983501e+03,  4.23087633e+03, -3.23674215e+01,\n",
              "          9.32986146e+02,  3.48742438e+03,  5.43975087e+01,\n",
              "         -2.14546577e-02,  4.70502058e+03, -2.56476409e+04,\n",
              "          3.24879982e+02, -3.01444787e+03, -5.66059875e+03,\n",
              "         -6.66169999e+01, -8.02106332e+01, -2.22983571e+02,\n",
              "         -4.78159577e+00,  1.54263885e+01,  1.97165496e-01,\n",
              "         -5.25211822e+03, -2.52928970e+01, -1.30155764e-01,\n",
              "         -1.47629184e+04,  6.45325301e+04,  2.42711649e+03,\n",
              "         -7.85325849e+03,  1.77292578e+04,  5.37640732e+01,\n",
              "          4.16252730e+01,  1.06288743e+02, -2.44400242e+01,\n",
              "         -1.18911213e+01, -2.73755715e-02,  7.88204211e+01,\n",
              "          5.87436298e+01, -1.42333083e+01,  7.07228388e+01,\n",
              "         -2.62685556e+00, -5.83766594e+00,  6.93510243e+00,\n",
              "         -1.88075328e+01, -1.07351638e+01, -4.35856686e+01,\n",
              "          1.09136165e+02,  2.79321857e+01,  5.12600511e+01,\n",
              "          3.21238544e-07,  4.52082841e-01, -1.20510056e-01,\n",
              "         -9.68561304e-02,  1.00698384e-01,  1.49255555e-01,\n",
              "         -5.87443174e+01, -5.87440849e+01,  1.39437552e-02,\n",
              "         -1.03360304e-04,  1.66565554e-04,  1.09559144e-06,\n",
              "          2.74642172e+04, -8.50092326e+04,  1.24950229e+04,\n",
              "          7.75644243e+03, -4.80260288e+03,  1.36902636e+01,\n",
              "          2.16690537e+01,  1.93195955e+02, -1.42094696e+01,\n",
              "         -3.21386897e+01, -5.27220266e-01, -1.05401634e+05,\n",
              "         -1.23256344e+04, -2.79365187e+04, -1.31954663e+05,\n",
              "          2.55297051e+02,  8.36231065e+01,  4.24921077e+02,\n",
              "         -7.34554891e+01,  1.64712849e+02, -8.56477918e-01,\n",
              "          7.75923475e+03,  7.57637434e+03,  1.86745488e+04,\n",
              "         -2.33641152e+01, -1.37385940e+01,  8.39432715e+01,\n",
              "         -9.40140819e+00,  4.25693725e+00, -5.82688399e-02,\n",
              "         -6.55259183e+02, -2.44019445e+03,  2.49244144e+01,\n",
              "          3.06425414e+01, -1.67137479e+02, -1.62722462e+01,\n",
              "          4.38796641e+01, -2.96412454e-01,  6.42418323e+03,\n",
              "          2.56634111e+01,  2.96099830e+01, -2.40942586e+02,\n",
              "         -4.53225047e+00, -2.48210869e+01, -5.26115593e-01,\n",
              "         -6.00084222e+01, -1.28064907e+02,  4.39357386e+01,\n",
              "         -1.09095304e+02, -2.79333758e+01, -5.12598546e+01,\n",
              "         -6.81506575e+01,  4.37690716e+01, -1.09094090e+02,\n",
              "         -2.79299625e+01, -5.12605737e+01,  2.48032861e+01,\n",
              "          5.21619103e-01, -2.15555224e+00,  1.81365306e-02,\n",
              "          1.11754101e+00,  4.50818714e-02,  1.80175905e-04,\n",
              "          3.32827238e-02,  1.32143452e-04,  2.33348656e-06]]),\n",
              " array([90027452.42348145]))"
            ]
          },
          "metadata": {},
          "execution_count": 62
        }
      ]
    },
    {
      "cell_type": "markdown",
      "source": [
        "La ecuación estimada por el modelo es la siguiente:\n",
        "\n",
        "$\\hat{y} =  460229.79X_1 - 283585.41X_2 + ...\n",
        "+ 90027452.42$"
      ],
      "metadata": {
        "id": "wz77WxANXEXF"
      }
    },
    {
      "cell_type": "code",
      "source": [
        "y_fit = linear_reg_ridge.predict(X_new_poly)\n",
        "\n",
        "plt.scatter(X_train['sqft_above'], y_train)\n",
        "plt.plot(X_train['sqft_above'].sort_values(), y_fit, \"r-\", linewidth=2, label=\"Predictions\")\n",
        "plt.xlabel(\"$X_1$\", fontsize=18)\n",
        "plt.ylabel(\"$y$\", rotation=0, fontsize=18)\n",
        "plt.legend(loc=\"upper left\", fontsize=14);"
      ],
      "metadata": {
        "colab": {
          "base_uri": "https://localhost:8080/",
          "height": 300
        },
        "id": "-tQe50DvXEoi",
        "outputId": "6ec4381d-14e1-410a-a4ae-33ff0fcfcac5"
      },
      "execution_count": null,
      "outputs": [
        {
          "output_type": "display_data",
          "data": {
            "text/plain": [
              "<Figure size 432x288 with 1 Axes>"
            ],
            "image/png": "[encoded data removed]"
          },
          "metadata": {
            "needs_background": "light"
          }
        }
      ]
    },
    {
      "cell_type": "code",
      "source": [
        "y_pred = linear_reg_ridge.predict(X_poly_test)\n",
        "\n",
        "print('Error medio Absoluto (MAE):', metrics.mean_absolute_error(y_test, y_pred))\n",
        "print('Root Mean Squared Error:', np.sqrt(metrics.mean_squared_error(y_test, y_pred)))\n",
        "print('r2_score',r2_score(y_test, y_pred))\n",
        "\n",
        "MAE.insert(2, \"Ridge\", [metrics.mean_absolute_error(y_test, y_pred)], True)\n",
        "RMSE.insert(2, \"Ridge\", [np.sqrt(metrics.mean_squared_error(y_test, y_pred))], True)\n",
        "R2.insert(2, \"Ridge\", [r2_score(y_test, y_pred)], True)"
      ],
      "metadata": {
        "colab": {
          "base_uri": "https://localhost:8080/"
        },
        "id": "eTkxjw8BXR6n",
        "outputId": "69d755e9-5412-4552-a866-c387a4262387"
      },
      "execution_count": null,
      "outputs": [
        {
          "output_type": "stream",
          "name": "stdout",
          "text": [
            "Error medio Absoluto (MAE): 121404.76295997466\n",
            "Root Mean Squared Error: 186174.41030556874\n",
            "r2_score 0.7799982760523756\n"
          ]
        }
      ]
    },
    {
      "cell_type": "markdown",
      "source": [
        "## Lasso"
      ],
      "metadata": {
        "id": "nAkwXQsrAKIX"
      }
    },
    {
      "cell_type": "code",
      "source": [
        "linear_reg_lasso = Lasso(fit_intercept=True)\n",
        "linear_reg_lasso.fit(X_poly_train, y_train)\n",
        "linear_reg_lasso.coef_, linear_reg_lasso.intercept_"
      ],
      "metadata": {
        "colab": {
          "base_uri": "https://localhost:8080/"
        },
        "id": "MPGkU-OoALif",
        "outputId": "254e1058-8cf1-4c47-d02f-e4d04fa61417"
      },
      "execution_count": null,
      "outputs": [
        {
          "output_type": "stream",
          "name": "stderr",
          "text": [
            "/usr/local/lib/python3.7/dist-packages/sklearn/linear_model/_coordinate_descent.py:648: ConvergenceWarning: Objective did not converge. You might want to increase the number of iterations, check the scale of the features or consider increasing regularisation. Duality gap: 3.356e+14, tolerance: 2.572e+11\n",
            "  coef_, l1_reg, l2_reg, X, y, max_iter, tol, rng, random, positive\n"
          ]
        },
        {
          "output_type": "execute_result",
          "data": {
            "text/plain": [
              "(array([ 1.25146350e+05,  1.53697177e+05,  7.96659429e+01, -3.03090606e+00,\n",
              "        -4.62761060e+04,  2.25762162e+05,  7.69809611e+04,  1.34009909e+05,\n",
              "         1.79959829e+05, -1.83114788e+02, -5.98522478e+01, -3.83208834e+03,\n",
              "        -2.47121236e+02,  1.35046847e+02, -1.53284654e+00,  1.07433010e+03,\n",
              "        -3.07147216e+03, -2.05681731e+01, -1.79188803e-01,  8.09707963e+03,\n",
              "        -2.18675074e+04, -1.17766829e+02, -1.70826807e+03, -3.85569921e+03,\n",
              "         7.52096406e+00,  2.98824177e-01, -6.22382161e+01,  4.52689267e-02,\n",
              "         1.88863844e+01,  2.66425000e-01,  1.14417250e+03,  4.56513666e+01,\n",
              "        -2.28612753e-02, -2.69241773e+04,  5.51814316e+04,  6.05414945e+03,\n",
              "        -1.99572193e+04,  1.80739021e+04, -1.33537979e+01, -3.79298592e+01,\n",
              "        -6.83273628e+01, -2.72410643e+01, -3.39310989e+01,  1.37007730e-01,\n",
              "         1.96437448e-02, -1.73712856e-04,  4.26278282e+00, -6.63959685e+01,\n",
              "         3.21892856e+01, -1.28309830e+01,  2.24899850e+01, -5.34030915e-02,\n",
              "         2.67701819e-02, -5.23450573e-02, -1.40186288e-03,  1.54975675e-03,\n",
              "        -4.70484761e-04, -1.03271281e-08,  4.66180939e-01, -2.10423453e-01,\n",
              "        -1.01615767e-01,  7.70339381e-02,  2.39596615e-01, -3.81141155e-04,\n",
              "        -3.18768955e-04,  1.02760784e-03, -3.68362312e-04,  3.99310469e-05,\n",
              "         1.75800900e-06,  2.74783063e+04, -9.78224750e+04,  1.15563786e+04,\n",
              "         9.58898006e+03,  6.55675426e+03, -4.57389103e+00,  2.64979807e+01,\n",
              "         1.83661865e+01, -3.05153444e+01, -5.75190748e+01, -4.56488934e-01,\n",
              "        -2.66767599e+05, -1.63150396e+04, -1.45401835e+04, -1.06596408e+05,\n",
              "         3.91819586e+02,  2.24606543e+02,  2.49156203e+02, -7.08717810e+01,\n",
              "         1.47585621e+02, -1.12377400e+00,  7.12267330e+03,  3.54054836e+03,\n",
              "         1.53987848e+04, -5.89773329e+01, -5.37895569e+01, -1.02019882e+02,\n",
              "        -1.49235109e+01,  1.21075958e+01, -9.94304283e-02,  1.41014029e+03,\n",
              "        -2.34192770e+03,  2.96099824e+01,  4.29873630e+01, -1.16778509e+02,\n",
              "        -2.46634300e+01,  7.10725842e+01, -6.15011903e-01,  6.13372453e+03,\n",
              "         2.39180180e+00,  1.87852119e+01, -1.00995878e+02,  1.82903647e+00,\n",
              "        -2.60569895e+01, -4.92761921e-01,  4.37412703e-02,  2.01956994e-02,\n",
              "        -4.55232228e-03,  3.19926820e-02,  1.98458580e-03,  4.28425119e-04,\n",
              "        -1.12294884e-01, -1.04855650e-01,  3.64951186e-02,  6.79351888e-03,\n",
              "        -1.98285716e-04,  6.84991441e-01,  9.69432132e-02, -8.52261818e-02,\n",
              "         2.76311366e-03,  1.91154817e-02,  8.26066226e-02, -3.68709276e-05,\n",
              "         2.99300569e-02,  2.67188109e-04,  2.06220486e-06]),\n",
              " array([5214373.58330479]))"
            ]
          },
          "metadata": {},
          "execution_count": 65
        }
      ]
    },
    {
      "cell_type": "markdown",
      "source": [
        "La ecuación estimada por el modelo es la siguiente:\n",
        "\n",
        "$\\hat{y} =  125146.35X_1 + 153697.17X_2 + ...\n",
        "+ 5214373.58$"
      ],
      "metadata": {
        "id": "fHwvnDVQYaXf"
      }
    },
    {
      "cell_type": "code",
      "source": [
        "y_fit = linear_reg_lasso.predict(X_new_poly)\n",
        "\n",
        "plt.scatter(X_train['sqft_above'], y_train)\n",
        "plt.plot(X_train['sqft_above'].sort_values(), y_fit, \"r-\", linewidth=2, label=\"Predictions\")\n",
        "plt.xlabel(\"$X_1$\", fontsize=18)\n",
        "plt.ylabel(\"$y$\", rotation=0, fontsize=18)\n",
        "plt.legend(loc=\"upper left\", fontsize=14);"
      ],
      "metadata": {
        "colab": {
          "base_uri": "https://localhost:8080/",
          "height": 300
        },
        "id": "6-V8oynYYyPM",
        "outputId": "516b1e38-af43-4a95-f161-a676014c2456"
      },
      "execution_count": null,
      "outputs": [
        {
          "output_type": "display_data",
          "data": {
            "text/plain": [
              "<Figure size 432x288 with 1 Axes>"
            ],
            "image/png": "[encoded data removed]"
          },
          "metadata": {
            "needs_background": "light"
          }
        }
      ]
    },
    {
      "cell_type": "code",
      "source": [
        "y_pred = linear_reg_lasso.predict(X_poly_test)\n",
        "\n",
        "print('Error medio Absoluto (MAE):', metrics.mean_absolute_error(y_test, y_pred))\n",
        "print('Root Mean Squared Error:', np.sqrt(metrics.mean_squared_error(y_test, y_pred)))\n",
        "print('r2_score',r2_score(y_test, y_pred))\n",
        "\n",
        "MAE.insert(3, \"Lasso\", [metrics.mean_absolute_error(y_test, y_pred)], True)\n",
        "RMSE.insert(3, \"Lasso\", [np.sqrt(metrics.mean_squared_error(y_test, y_pred))], True)\n",
        "R2.insert(3, \"Lasso\", [r2_score(y_test, y_pred)], True)"
      ],
      "metadata": {
        "colab": {
          "base_uri": "https://localhost:8080/"
        },
        "id": "vzSFjHe1YtGy",
        "outputId": "d4f27f7b-9b66-4dc2-8bc4-0168face0e7c"
      },
      "execution_count": null,
      "outputs": [
        {
          "output_type": "stream",
          "name": "stdout",
          "text": [
            "Error medio Absoluto (MAE): 122442.91797698366\n",
            "Root Mean Squared Error: 187917.98521926257\n",
            "r2_score 0.7758582259015323\n"
          ]
        }
      ]
    },
    {
      "cell_type": "markdown",
      "source": [
        "## Comparación"
      ],
      "metadata": {
        "id": "e5z4gjkSAMFg"
      }
    },
    {
      "cell_type": "code",
      "source": [
        "models = list(MAE.keys())\n",
        "values = [item for sublist in MAE.values for item in sublist]\n",
        "  \n",
        "fig = plt.figure(figsize = (10, 5))\n",
        " \n",
        "plt.bar(models, values, color ='red',\n",
        "        width = 0.4)\n",
        " \n",
        "plt.xlabel(\"Model\")\n",
        "plt.ylabel(\"MAE\")\n",
        "plt.title(\"MAE scores for each model\")\n",
        "plt.show()"
      ],
      "metadata": {
        "colab": {
          "base_uri": "https://localhost:8080/",
          "height": 350
        },
        "id": "M_4BKIjYANgv",
        "outputId": "562da755-861d-4be9-bea1-b24bd1bb7be6"
      },
      "execution_count": null,
      "outputs": [
        {
          "output_type": "display_data",
          "data": {
            "text/plain": [
              "<Figure size 720x360 with 1 Axes>"
            ],
            "image/png": "[encoded data removed]"
          },
          "metadata": {
            "needs_background": "light"
          }
        }
      ]
    },
    {
      "cell_type": "code",
      "source": [
        "models = list(R2.keys())\n",
        "values = [item for sublist in R2.values for item in sublist]\n",
        "  \n",
        "fig = plt.figure(figsize = (10, 5))\n",
        " \n",
        "plt.bar(models, values, color ='blue',\n",
        "        width = 0.4)\n",
        " \n",
        "plt.xlabel(\"Model\")\n",
        "plt.ylabel(\"R2\")\n",
        "plt.title(\"R2 scores for each model\")\n",
        "plt.show()"
      ],
      "metadata": {
        "colab": {
          "base_uri": "https://localhost:8080/",
          "height": 350
        },
        "id": "0pvAJqdhNvIH",
        "outputId": "5e5aff83-4fbe-4c0d-99c7-c8ce883b61a2"
      },
      "execution_count": null,
      "outputs": [
        {
          "output_type": "display_data",
          "data": {
            "text/plain": [
              "<Figure size 720x360 with 1 Axes>"
            ],
            "image/png": "[encoded data removed]"
          },
          "metadata": {
            "needs_background": "light"
          }
        }
      ]
    },
    {
      "cell_type": "markdown",
      "source": [
        "Para el ejercicio 2 tuvimos un comportamiento similar al ejercicio anterior. Las métricas para los modelos polinomiales fueron mejores en comparación con el modelo lineal. Sin embargo, acá vemos que por poco el mejor modelo fue el polonimal sin regularización."
      ],
      "metadata": {
        "id": "5FTCXBAlNwS-"
      }
    }
  ]
}
